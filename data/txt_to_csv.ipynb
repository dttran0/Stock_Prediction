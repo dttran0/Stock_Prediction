{
 "cells": [
  {
   "cell_type": "code",
   "execution_count": 1,
   "id": "a19f4acb-714a-495c-8a62-8337ba84fd90",
   "metadata": {},
   "outputs": [],
   "source": [
    "import csv"
   ]
  },
  {
   "cell_type": "code",
   "execution_count": 2,
   "id": "34b5d310-f86b-4837-b069-c6b3a2ca6025",
   "metadata": {},
   "outputs": [
    {
     "name": "stdout",
     "output_type": "stream",
     "text": [
      "Data has been successfully written to 4.12.15-5.11.24_articles.csv\n"
     ]
    }
   ],
   "source": [
    "# Input and output file paths\n",
    "input_file = '4.12.15-5.11.24_articles.txt'\n",
    "output_file = '4.12.15-5.11.24_articles.csv'\n",
    "\n",
    "# Read the input file\n",
    "with open(input_file, 'r') as file:\n",
    "    lines = file.readlines()\n",
    "\n",
    "# Process the lines and write to the CSV\n",
    "with open(output_file, 'w', newline='', encoding='utf-8') as csvfile:\n",
    "    csvwriter = csv.writer(csvfile)\n",
    "    # Write the header (if needed)\n",
    "    csvwriter.writerow(['Date and Time', 'Article Title'])\n",
    "    \n",
    "    for line in lines:\n",
    "        try:\n",
    "            # Split only on the first comma\n",
    "            date_time, title = line.strip().split(',', 1)\n",
    "            # Write the row to the CSV\n",
    "            csvwriter.writerow([date_time, title])\n",
    "        except ValueError as e:\n",
    "            print(f\"Skipping line due to error: {line.strip()}\")\n",
    "            print(f\"Error: {e}\")\n",
    "\n",
    "print(f\"Data has been successfully written to {output_file}\")"
   ]
  },
  {
   "cell_type": "code",
   "execution_count": null,
   "id": "5de7dc81-f544-4195-b64c-093edfbc3413",
   "metadata": {},
   "outputs": [],
   "source": []
  }
 ],
 "metadata": {
  "kernelspec": {
   "display_name": "Python 3 (ipykernel)",
   "language": "python",
   "name": "python3"
  },
  "language_info": {
   "codemirror_mode": {
    "name": "ipython",
    "version": 3
   },
   "file_extension": ".py",
   "mimetype": "text/x-python",
   "name": "python",
   "nbconvert_exporter": "python",
   "pygments_lexer": "ipython3",
   "version": "3.11.9"
  }
 },
 "nbformat": 4,
 "nbformat_minor": 5
}
