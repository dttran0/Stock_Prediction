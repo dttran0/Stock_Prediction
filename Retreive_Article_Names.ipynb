{
 "cells": [
  {
   "cell_type": "code",
   "execution_count": null,
   "id": "4e5c52d3-a0ff-431a-998a-b4afc1462bde",
   "metadata": {},
   "outputs": [],
   "source": [
    "# !pip install sentencepiece\n",
    "# !pip install torch\n",
    "# !pip install transformers"
   ]
  },
  {
   "cell_type": "code",
   "execution_count": 10,
   "id": "1bc008b6-41ae-40c9-9a14-b17184413c4e",
   "metadata": {},
   "outputs": [],
   "source": [
    "import requests\n",
    "import xml.etree.ElementTree as ET\n",
    "from bs4 import BeautifulSoup\n",
    "from transformers import T5Tokenizer, T5ForConditionalGeneration, pipeline"
   ]
  },
  {
   "cell_type": "markdown",
   "id": "4e0695e0-186b-47b9-a270-aac5d6323a9b",
   "metadata": {},
   "source": [
    "### Experimentation with FLAN T5 (may use this and VADER)"
   ]
  },
  {
   "cell_type": "code",
   "execution_count": 2,
   "id": "fbe9bb42-0699-462f-a600-6ce01e2f623f",
   "metadata": {},
   "outputs": [
    {
     "name": "stderr",
     "output_type": "stream",
     "text": [
      "C:\\Users\\blkeu\\anaconda3\\envs\\CS172B311\\Lib\\site-packages\\huggingface_hub\\file_download.py:1132: FutureWarning: `resume_download` is deprecated and will be removed in version 1.0.0. Downloads always resume when possible. If you want to force a new download, use `force_download=True`.\n",
      "  warnings.warn(\n"
     ]
    },
    {
     "data": {
      "application/vnd.jupyter.widget-view+json": {
       "model_id": "293be5a9608b417dae069100922a09c2",
       "version_major": 2,
       "version_minor": 0
      },
      "text/plain": [
       "tokenizer_config.json:   0%|          | 0.00/2.54k [00:00<?, ?B/s]"
      ]
     },
     "metadata": {},
     "output_type": "display_data"
    },
    {
     "name": "stderr",
     "output_type": "stream",
     "text": [
      "C:\\Users\\blkeu\\anaconda3\\envs\\CS172B311\\Lib\\site-packages\\huggingface_hub\\file_download.py:157: UserWarning: `huggingface_hub` cache-system uses symlinks by default to efficiently store duplicated files but your machine does not support them in C:\\Users\\blkeu\\.cache\\huggingface\\hub\\models--google--flan-t5-large. Caching files will still work but in a degraded version that might require more space on your disk. This warning can be disabled by setting the `HF_HUB_DISABLE_SYMLINKS_WARNING` environment variable. For more details, see https://huggingface.co/docs/huggingface_hub/how-to-cache#limitations.\n",
      "To support symlinks on Windows, you either need to activate Developer Mode or to run Python as an administrator. In order to see activate developer mode, see this article: https://docs.microsoft.com/en-us/windows/apps/get-started/enable-your-device-for-development\n",
      "  warnings.warn(message)\n"
     ]
    },
    {
     "data": {
      "application/vnd.jupyter.widget-view+json": {
       "model_id": "f6765bf745504cd3aa77bcf555a0c787",
       "version_major": 2,
       "version_minor": 0
      },
      "text/plain": [
       "spiece.model:   0%|          | 0.00/792k [00:00<?, ?B/s]"
      ]
     },
     "metadata": {},
     "output_type": "display_data"
    },
    {
     "data": {
      "application/vnd.jupyter.widget-view+json": {
       "model_id": "be8f2887f4a04f45870533a1e7430afa",
       "version_major": 2,
       "version_minor": 0
      },
      "text/plain": [
       "special_tokens_map.json:   0%|          | 0.00/2.20k [00:00<?, ?B/s]"
      ]
     },
     "metadata": {},
     "output_type": "display_data"
    },
    {
     "data": {
      "application/vnd.jupyter.widget-view+json": {
       "model_id": "4e1cd96af7214a86901fb929ff62a344",
       "version_major": 2,
       "version_minor": 0
      },
      "text/plain": [
       "tokenizer.json:   0%|          | 0.00/2.42M [00:00<?, ?B/s]"
      ]
     },
     "metadata": {},
     "output_type": "display_data"
    },
    {
     "name": "stderr",
     "output_type": "stream",
     "text": [
      "You are using the default legacy behaviour of the <class 'transformers.models.t5.tokenization_t5.T5Tokenizer'>. This is expected, and simply means that the `legacy` (previous) behavior will be used so nothing changes for you. If you want to use the new behaviour, set `legacy=False`. This should only be set if you understand what it means, and thoroughly read the reason why this was added as explained in https://github.com/huggingface/transformers/pull/24565\n",
      "Special tokens have been added in the vocabulary, make sure the associated word embeddings are fine-tuned or trained.\n"
     ]
    },
    {
     "data": {
      "application/vnd.jupyter.widget-view+json": {
       "model_id": "9c65f90338524985bf637cc9d53fabe9",
       "version_major": 2,
       "version_minor": 0
      },
      "text/plain": [
       "config.json:   0%|          | 0.00/662 [00:00<?, ?B/s]"
      ]
     },
     "metadata": {},
     "output_type": "display_data"
    },
    {
     "data": {
      "application/vnd.jupyter.widget-view+json": {
       "model_id": "0964c7b550af49c89ce9e75a3457a876",
       "version_major": 2,
       "version_minor": 0
      },
      "text/plain": [
       "model.safetensors:   0%|          | 0.00/3.13G [00:00<?, ?B/s]"
      ]
     },
     "metadata": {},
     "output_type": "display_data"
    },
    {
     "data": {
      "application/vnd.jupyter.widget-view+json": {
       "model_id": "5c5ec2ab1c804639b3c7411d2f7c7568",
       "version_major": 2,
       "version_minor": 0
      },
      "text/plain": [
       "generation_config.json:   0%|          | 0.00/147 [00:00<?, ?B/s]"
      ]
     },
     "metadata": {},
     "output_type": "display_data"
    },
    {
     "name": "stderr",
     "output_type": "stream",
     "text": [
      "C:\\Users\\blkeu\\anaconda3\\envs\\CS172B311\\Lib\\site-packages\\transformers\\generation\\utils.py:1141: UserWarning: Using the model-agnostic default `max_length` (=20) to control the generation length. We recommend setting `max_new_tokens` to control the maximum length of the generation.\n",
      "  warnings.warn(\n"
     ]
    },
    {
     "name": "stdout",
     "output_type": "stream",
     "text": [
      "<pad> Wie alte sind Sie?</s>\n"
     ]
    }
   ],
   "source": [
    "tokenizer = T5Tokenizer.from_pretrained(\"google/flan-t5-large\")\n",
    "model = T5ForConditionalGeneration.from_pretrained(\"google/flan-t5-large\")\n",
    "\n",
    "input_text = \"translate English to German: How old are you?\"\n",
    "input_ids = tokenizer(input_text, return_tensors=\"pt\").input_ids\n",
    "\n",
    "outputs = model.generate(input_ids)\n",
    "print(tokenizer.decode(outputs[0]))"
   ]
  },
  {
   "cell_type": "code",
   "execution_count": 9,
   "id": "32e4f9b0-9bb6-4822-a339-b5c6f39271ab",
   "metadata": {},
   "outputs": [
    {
     "name": "stderr",
     "output_type": "stream",
     "text": [
      "No model was supplied, defaulted to distilbert/distilbert-base-uncased-finetuned-sst-2-english and revision af0f99b (https://huggingface.co/distilbert/distilbert-base-uncased-finetuned-sst-2-english).\n",
      "Using a pipeline without specifying a model name and revision in production is not recommended.\n"
     ]
    },
    {
     "data": {
      "text/plain": [
       "[{'score': 0.9477, 'label': 'NEGATIVE'}]"
      ]
     },
     "execution_count": 9,
     "metadata": {},
     "output_type": "execute_result"
    }
   ],
   "source": [
    "classifier = pipeline(task=\"sentiment-analysis\")\n",
    "preds = classifier(\"Apple, OpenAI restart talks to add generative AI to next iPhone: Bloomberg\")\n",
    "preds = [{\"score\": round(pred[\"score\"], 4), \"label\": pred[\"label\"]} for pred in preds]\n",
    "preds"
   ]
  },
  {
   "cell_type": "markdown",
   "id": "12d2b467-d8fc-48dc-be35-79f267c5231b",
   "metadata": {},
   "source": [
    "# Fetch article titles"
   ]
  },
  {
   "cell_type": "code",
   "execution_count": 27,
   "id": "0b53e9e8-da7a-4b48-a4c1-dff8625dce43",
   "metadata": {},
   "outputs": [],
   "source": [
    "# def fetch_and_parse_xml(url):\n",
    "#     # Fetch the content from URL\n",
    "#     response = requests.get(url)\n",
    "#     response.raise_for_status()  # This will raise an error if the fetch fails\n",
    "\n",
    "#     # Parse XML\n",
    "#     root = ET.fromstring(response.content)\n",
    "#     return root\n",
    "\n",
    "# def extract_information(root):\n",
    "#     # Define the namespace mapping\n",
    "#     namespaces = {\n",
    "#         'sa': 'https://seekingalpha.com/api/1.0',\n",
    "#         'media': 'http://search.yahoo.com/mrss/'\n",
    "#     }\n",
    "\n",
    "#     # Loop through each item in the XML\n",
    "#     articles = []\n",
    "#     for item in root.findall('.//channel/item', namespaces):\n",
    "#         # Extract information from each item\n",
    "#         title = item.find('title').text\n",
    "#         link = item.find('link').text\n",
    "#         pub_date = item.find('pubDate').text\n",
    "#         author_name = item.find('sa:author_name', namespaces).text\n",
    "        \n",
    "#         # Collect article information in a dictionary\n",
    "#         article_info = {\n",
    "#             'title': title,\n",
    "#             'link': link,\n",
    "#             'published_date': pub_date,\n",
    "#             'author_name': author_name\n",
    "#         }\n",
    "#         articles.append(article_info)\n",
    "\n",
    "#     return articles"
   ]
  },
  {
   "cell_type": "code",
   "execution_count": 28,
   "id": "d8452e8d-d1f5-480a-a5f4-536155e775f3",
   "metadata": {},
   "outputs": [],
   "source": [
    "# # URL of the RSS feed\n",
    "# url = \"https://seekingalpha.com/api/sa/combined/AAPL.xml\"\n",
    "\n",
    "# # Process the URL\n",
    "# root = fetch_and_parse_xml(url)\n",
    "\n",
    "# # Extract and print article information\n",
    "# articles = extract_information(root)\n",
    "# for article in articles:\n",
    "#     print(article)"
   ]
  },
  {
   "cell_type": "code",
   "execution_count": 17,
   "id": "fa125f77-a015-468f-82e1-0c4264781ac7",
   "metadata": {},
   "outputs": [],
   "source": [
    "# for article in articles:\n",
    "#     titles.append(article['title'])\n",
    "#     # print(article['title'])"
   ]
  },
  {
   "cell_type": "code",
   "execution_count": 13,
   "id": "ae0aef33-4ee7-4c4a-bead-03ebbbcc8d90",
   "metadata": {},
   "outputs": [],
   "source": [
    "def load_api_key(filepath):\n",
    "    \"\"\"Load and return the API key from a file.\"\"\"\n",
    "    with open(filepath, 'r') as file:\n",
    "        api_key = file.read().strip()  # .strip() removes any leading/trailing whitespace\n",
    "    return api_key\n",
    "\n",
    "def fetch_news(api_key, query):\n",
    "    url = f'https://newsapi.org/v2/everything?q=apple&apiKey='\n",
    "    url += api_key\n",
    "    response = requests.get(url)\n",
    "    return response.json()"
   ]
  },
  {
   "cell_type": "code",
   "execution_count": 38,
   "id": "fd55e3ad-1e64-44ea-afc3-2d1b881b64ca",
   "metadata": {},
   "outputs": [],
   "source": [
    "def fetch_news(api_key, query, from_date, to_date):\n",
    "    \"\"\"Fetch news articles from the News API based on a query and date range.\"\"\"\n",
    "    url = 'https://newsapi.org/v2/everything'\n",
    "    params = {\n",
    "        'q': query,\n",
    "        'from': from_date,\n",
    "        'to': to_date,\n",
    "        'apiKey': api_key,\n",
    "        'sortBy': 'publishedAt',  # Sort by publication date\n",
    "        'language': 'en'  # Assuming you want articles in English\n",
    "    }\n",
    "    response = requests.get(url, params=params)\n",
    "    return response.json()"
   ]
  },
  {
   "cell_type": "code",
   "execution_count": 39,
   "id": "d3d46d4f-09c3-4768-8b01-126dc41c8683",
   "metadata": {},
   "outputs": [
    {
     "name": "stdout",
     "output_type": "stream",
     "text": [
      "{'status': 'ok', 'totalResults': 23423, 'articles': [{'source': {'id': None, 'name': 'Pausaparafeminices.com'}, 'author': 'Bruna Tavares', 'title': 'Finest On the web Position Web sites Philippines Best Filipino Ports Casinos', 'description': 'Posts Cellular Slots Range Out of All Developers Advantages of Playing 100 percent free Slots On the internet: Greatest Real cash Mobile Harbors For people Professionals You’ve got the capability to put dollars on one approach, plus withdraw playing with anot…', 'url': 'https://www.pausaparafeminices.com/ppf/finest-on-the-web-position-web-sites-philippines-best-filipino-ports-casinos/', 'urlToImage': None, 'publishedAt': '2024-05-06T23:56:49Z', 'content': 'You’ve got the capability to put dollars on one approach, plus withdraw playing with another to possess an instant and you can pain-free payout. Since the during the Ports away from Las vegas, your o… [+5253 chars]'}, {'source': {'id': None, 'name': 'KCCI Des Moines'}, 'author': 'Beau Bowman', 'title': 'Why so many restaurants are calling it quits', 'description': '\"This is the first time that we actually see a drop in people walking through the door,\" said one industry expert.', 'url': 'https://www.kcci.com/article/iowa-restaurants-going-out-of-business-more-frequently/60704575', 'urlToImage': 'https://kubrick.htvapps.com/vidthumb/145ec0b7-d6b7-42d5-ab22-758b2a099e72/d98dc25c-f8d4-4bcf-a695-db2a4d03d8a0.jpg?crop=0.788xw:0.788xh;0.212xw,0&resize=1200:*', 'publishedAt': '2024-05-06T23:56:35Z', 'content': 'DES MOINES, Iowa —Dark windows and locked doors have become an all too familiar sight in Des Moines.\\r\\nGusto Pizza had been a popular parlor for the better part of the last decade during its time on I… [+1774 chars]'}, {'source': {'id': None, 'name': 'Yahoo Entertainment'}, 'author': 'Nick Turner', 'title': 'Apple Is Working On Its Own AI Chip for Data Centers, WSJ Says', 'description': '(Bloomberg) -- Apple Inc. has been developing a homegrown chip to run artificial intelligence tools in data centers, though it’s unclear if the semiconductor...', 'url': 'https://finance.yahoo.com/news/apple-working-own-ai-chip-235630590.html', 'urlToImage': 'https://s.yimg.com/ny/api/res/1.2/jRC0JowJcit8zk0hLeHUiw--/YXBwaWQ9aGlnaGxhbmRlcjt3PTEyMDA7aD04MDA-/https://media.zenfs.com/en/bloomberg_technology_68/a4aacdb388dc4d590fcee6274ebb44a4', 'publishedAt': '2024-05-06T23:56:30Z', 'content': '(Bloomberg) -- Apple Inc. has been developing a homegrown chip to run artificial intelligence tools in data centers, though its unclear if the semiconductor will ever be deployed, the Wall Street Jou… [+1524 chars]'}, {'source': {'id': None, 'name': 'Yahoo Entertainment'}, 'author': 'Lee Huffman', 'title': 'Discover it Student Cash Back review: Get 5% back in popular quarterly categories', 'description': \"There's no credit score required to get this valuable cash-back student card.\", 'url': 'https://finance.yahoo.com/personal-finance/discover-it-student-cash-back-review-235441184.html', 'urlToImage': 'https://s.yimg.com/os/creatr-uploaded-images/2024-05/356d5e90-0c03-11ef-a7ff-28236ff439ed', 'publishedAt': '2024-05-06T23:54:41Z', 'content': 'Between rising college costs and inflation in just about every other part of the economy, its no wonder why college students may be short on cash. But with the right student credit card\\r\\n, you can st… [+9970 chars]'}, {'source': {'id': None, 'name': 'Spencerauthor.com'}, 'author': 'John Spencer', 'title': 'Promoting Academic Integrity in the Age of Generative AI', 'description': 'We often talk about the need for students to have voice and choice in their learning. We want them to engage in meaningful, productive struggle as they do projects and engage in problem-solving. But where does AI fit into this? In past articles, we’ve explore…', 'url': 'https://spencerauthor.com/ai-academic-integrity/', 'urlToImage': 'https://spencerauthor.com/wp-content/uploads/2024/05/New-Template.001.png', 'publishedAt': '2024-05-06T23:53:01Z', 'content': 'We often talk about the need for students to have voice and choice in their learning. We want them to engage in meaningful, productive struggle as they do projects and engage in problem-solving. But … [+22288 chars]'}, {'source': {'id': None, 'name': 'Biztoc.com'}, 'author': 'thestreet.com', 'title': 'Analysts revise DraftKings stock price target after Kentucky Derby', 'description': \"It hasn't been this close in nearly 50 years. Mystic Dan, an 18-1-underdog, rocked the horse racing world on Saturday, May 4, when the bay colt won the 150th running of the Kentucky Derby in the closet finish since 1947. Related: Analysts revisit Apple stock …\", 'url': 'https://biztoc.com/x/7d890e556ba849d0', 'urlToImage': 'https://c.biztoc.com/p/7d890e556ba849d0/s.webp', 'publishedAt': '2024-05-06T23:52:09Z', 'content': \"It hasn't been this close in nearly 50 years.Mystic Dan, an 18-1-underdog, rocked the horse racing world on Saturday, May 4, when the bay colt won the 150th running of the Kentucky Derby in the close… [+304 chars]\"}, {'source': {'id': None, 'name': 'Biztoc.com'}, 'author': 'finance.yahoo.com', 'title': 'Should Investors Buy Apple Stock Today?', 'description': \"Fool.com contributor Parkev Tatevosian reviews Apple's (NASDAQ: AAPL) latest earnings results and determines if Apple stock is a buy at current valuations. *Stock prices used were the afternoon prices of May 2, 2024. The video was published on May 4, 2024. Sh…\", 'url': 'https://biztoc.com/x/20a8cfd39dec951f', 'urlToImage': 'https://c.biztoc.com/p/20a8cfd39dec951f/og.webp', 'publishedAt': '2024-05-06T23:52:07Z', 'content': \"Fool.com contributor Parkev Tatevosian reviews Apple's (NASDAQ: AAPL) latest earnings results and determines if Apple stock is a buy at current valuations.*Stock prices used were the afternoon prices… [+255 chars]\"}, {'source': {'id': None, 'name': '9to5Mac'}, 'author': 'Filipe Espósito', 'title': 'Apple reportedly developing new dedicated chip for AI data centers', 'description': 'Apple has been investing a lot in artificial intelligence recently, and soon the company will introduce its own generative AI to the world. In fact, it looks like the company is taking AI seriously, as a new report claims that Apple is developing a new chip s…', 'url': 'https://9to5mac.com/2024/05/06/apple-new-chip-ai-data-centers/', 'urlToImage': 'https://i0.wp.com/9to5mac.com/wp-content/uploads/sites/6/2024/04/m4-ai.jpg?resize=1200%2C628&quality=82&strip=all&ssl=1', 'publishedAt': '2024-05-06T23:51:41Z', 'content': 'Apple has been investing a lot in artificial intelligence recently, and soon the company will introduce its own generative AI to the world. In fact, it looks like the company is taking AI seriously, … [+873 chars]'}, {'source': {'id': None, 'name': 'DC Rainmaker'}, 'author': 'DC Rainmaker', 'title': 'Polar (Sorta) Launches Whoop-like Competitor: The Polar 360', 'description': '\\ufeff Polar has quietly rolled out a new website that showcases at the Polar 360, which is a\\xa0Whoop-like tracking band, including 5-day battery life, always-on optical HR sensor, Polar algorithms, and plenty more. It’ll even leverage Polar Flow as one … Read More …', 'url': 'https://www.dcrainmaker.com/2024/05/polar-launches-competitor.html', 'urlToImage': 'https://media.dcrainmaker.com/images/2024/05/Polar360WhoopCompetitor.jpg', 'publishedAt': '2024-05-06T23:51:19Z', 'content': 'Polar has quietly rolled out a new website that showcases at the Polar 360, which is a\\xa0Whoop-like tracking band, including 5-day battery life, always-on optical HR sensor, Polar algorithms, and plent… [+9211 chars]'}, {'source': {'id': None, 'name': 'New York Post'}, 'author': 'Joe Marino, Amanda Woods, David Propper', 'title': 'Career criminal arrested for randomly attacking woman on NYC subway — only to be set free next day', 'description': '“And then he started throwing kicks. Yeah, he was kicking me in the belly. He was throwing kicks and punches. Like three kicks, four kicks...\"', 'url': 'https://nypost.com/2024/05/06/us-news/career-criminal-michael-crosland-arrested-for-alleged-nyc-subway-attack/', 'urlToImage': 'https://nypost.com/wp-content/uploads/sites/2/2024/05/newspress-collage-i0cfyek5m-1715039360118.jpg?quality=75&strip=all&1715025027&w=1024', 'publishedAt': '2024-05-06T23:50:39Z', 'content': 'A career criminal was arrested Sunday after he allegedly slugged a woman in a Brooklyn subway car in a random attack — but was back on the streets the next day thanks to New Yorks lax bail laws.\\r\\nMic… [+3031 chars]'}, {'source': {'id': None, 'name': 'AppleInsider'}, 'author': 'news@appleinsider.com (Andrew Orr)', 'title': 'US Labor Board rules Apple illegally interrogated retail staff in NYC', 'description': 'The US Labor Board found that Apple conducted unauthorized interrogations of employees at the Apple World Trade Center retail store in New York City.Apple World Trade CenterIn a recent ruling, the US National Labor Relations Board (NLRB) found that Apple enga…', 'url': 'https://appleinsider.com/articles/24/05/06/us-labor-board-rules-apple-illegally-interrogated-retail-staff-in-nyc', 'urlToImage': 'https://photos5.appleinsider.com/gallery/59565-121588-IMG_5265-xl.jpg', 'publishedAt': '2024-05-06T23:44:05Z', 'content': 'Apple World Trade Center\\r\\nThe US Labor Board found that Apple conducted unauthorized interrogations of employees at the Apple World Trade Center retail store in New York City.\\r\\nIn a recent ruling, th… [+1848 chars]'}, {'source': {'id': 'bleacher-report', 'name': 'Bleacher Report'}, 'author': 'Andrew Peters', 'title': \"Heat's Jaime Jaquez Jr. Talks at White House Cinco De Mayo Event with President Biden\", 'description': \"Miami Heat rookie Jaime Jaquez Jr. received a special honor on Monday as he was invited to the White House for President Joe Biden and First Lady Jill Biden's…\", 'url': 'https://bleacherreport.com/articles/10120081-heats-jaime-jaquez-jr-talks-at-white-house-cinco-de-mayo-event-with-president-biden', 'urlToImage': 'https://media.bleacherreport.com/image/upload/c_fill,g_faces,w_3800,h_2000,q_95/v1715037780/inkc6bld6i1gtccywcn2.jpg', 'publishedAt': '2024-05-06T23:42:26Z', 'content': \"Andrew Harnik/Getty Images\\r\\nMiami Heat rookie Jaime Jaquez Jr. received a special honor on Monday as he was invited to the White House for President Joe Biden and First Lady Jill Biden's Cinco de May… [+1394 chars]\"}, {'source': {'id': None, 'name': 'Investing.com'}, 'author': 'Investing.com', 'title': 'Apple developing AI chip for data centers- WSJ', 'description': 'Apple developing AI chip for data centers- WSJ', 'url': 'https://www.investing.com/news/stock-market-news/apple-developing-ai-chip-for-data-centers-wsj-3422570', 'urlToImage': 'https://i-invdn-com.investing.com/news/LYNXMPEE7G1HO_L.jpg', 'publishedAt': '2024-05-06T23:40:23Z', 'content': 'Investing.com--\\xa0Apple Inc (NASDAQ:AAPL) is developing an in-house chip intended to run artificial intelligence programs in data centers, the Wall Street Journal reported on Monday, as the tech giant … [+898 chars]'}, {'source': {'id': None, 'name': 'Deadline'}, 'author': 'Nellie Andreeva', 'title': 'Richard Shepard Signs With TFC Management', 'description': 'EXCLUSIVE: Richard Shepard has signed with TFC. The move reunites the Emmy and DGA Award-winning director-writer with former WME partner David Stone who founded the management company in 2020 with UTA’s Ben Jacobson. “I’m super psyched to be back in business …', 'url': 'http://deadline.com/2024/05/richard-shepard-tfc-management-1235905739/', 'urlToImage': 'https://deadline.com/wp-content/uploads/2024/05/Richard-Shepard-TFC-Management.jpg?w=1000', 'publishedAt': '2024-05-06T23:38:34Z', 'content': 'EXCLUSIVE: Richard Shepard has signed with TFC. The move reunites the Emmy and DGA Award-winning director-writer with former WME partner David Stone who founded the management company in 2020 with UT… [+1431 chars]'}, {'source': {'id': None, 'name': 'Biztoc.com'}, 'author': 'thestreet.com', 'title': 'Analysts brew up new Starbucks stock price targets after earnings', 'description': \"It’s been called a hug in a mug, the answer to all problems, and the favorite drink of the civilized world. People refer to it as dirt, brain juice, rocket fuel, and cupped lightning. It's the source of hundreds of songs, sayings, and internet memes and, for …\", 'url': 'https://biztoc.com/x/859ea3fcb9614089', 'urlToImage': 'https://c.biztoc.com/p/859ea3fcb9614089/s.webp', 'publishedAt': '2024-05-06T23:38:20Z', 'content': \"Its been called a hug in a mug, the answer to all problems, and the favorite drink of the civilized world.People refer to it as dirt, brain juice, rocket fuel, and cupped lightning. It's the source o… [+310 chars]\"}, {'source': {'id': None, 'name': 'Biztoc.com'}, 'author': 'finance.yahoo.com', 'title': 'Warren Buffett predicts ‘higher taxes are likely’ since the national debt won’t pay for itself', 'description': 'The U.S. government may be coming to take a larger bite out of corporate profits, and Berkshire Hathaway chairman Warren Buffett wants to be prepared. When asked at Saturday’s annual shareholder meeting why he sold 115 million shares of Apple over the past qu…', 'url': 'https://biztoc.com/x/ffc72a4cc2d78b2d', 'urlToImage': 'https://c.biztoc.com/p/ffc72a4cc2d78b2d/s.webp', 'publishedAt': '2024-05-06T23:38:10Z', 'content': 'The U.S. government may be coming to take a larger bite out of corporate profits, and Berkshire Hathaway chairman Warren Buffett wants to be prepared.When asked at Saturdays annual shareholder meetin… [+305 chars]'}, {'source': {'id': None, 'name': 'NPR'}, 'author': 'NPR', 'title': \"The history of 'outside agitators' — from Gaza protests to Martin Luther King Jr.\", 'description': 'The term \"outside agitator\" has staying power.<br><br>It\\'s been used against protestors throughout history, from the Civil Rights Movement, to the anti-Vietnam War protests and now during the pro-Palestinian demonstrations on college campuses.<br><br>\"Outside…', 'url': 'https://www.npr.org/2024/05/06/1198911419/college-protest-israel-gaza-new-york-eric-adams-outside-agitator', 'urlToImage': 'https://media.npr.org/assets/img/2024/05/06/gettyimages-2151485221_wide-43fafaf258edf1718afa90ff6f626722997a87ab.jpg?s=1400&c=100&f=jpeg', 'publishedAt': '2024-05-06T23:37:31Z', 'content': \"Police take demonstrators into custody on the campus of the Art Institute of Chicago after students established a protest encampment on the grounds on May 4.\\r\\nScott Olson/Getty Images\\r\\nYou're reading… [+3419 chars]\"}, {'source': {'id': None, 'name': 'Restoreprivacy.com'}, 'author': 'Alex Lekander', 'title': 'Proton Mail Discloses User Data Leading to Arrest in Spain', 'description': 'Proton Mail came under scrutiny for its role in a legal request by the Spanish authorities leading to the identification and arrest of a user.', 'url': 'https://restoreprivacy.com/protonmail-discloses-user-data-leading-to-arrest-in-spain/', 'urlToImage': 'https://cdn-resprivacy.pressidium.com/wp-content/uploads/2024/05/ProtonMail-Discloses-User-Data-Leading-to-Arrest-in-Spain.jpg', 'publishedAt': '2024-05-06T23:34:58Z', 'content': 'Proton Mail has come under scrutiny for its role in a legal request involving the Spanish authorities and a member of the Catalan independence organization, Democratic Tsunami.\\r\\nProton Mail is a secu… [+4310 chars]'}, {'source': {'id': None, 'name': 'Minneapolis Star Tribune'}, 'author': 'Kelly Smith', 'title': 'Witnesses testify they saw no meals served at Twin Cities distribution sites connected to Feeding Our Future', 'description': 'Five witnesses testified Monday in the Feeding Our Future trial that they either saw no meals served or \"few people\" at meal distribution sites run by defendants.', 'url': 'https://www.startribune.com/witnesses-testify-they-saw-no-meals-served-at-twin-cities-distribution-sites-connected-to-feeding-our-future/600364112/', 'urlToImage': 'https://arc.stimg.co/startribunemedia/7CNT652P3JGY7DNB33CZH35J5I.jpg?h=630&w=1200&fit=crop&bg=999&crop=faces', 'publishedAt': '2024-05-06T23:34:56Z', 'content': \"A park supervisor didn't see any lines of children getting meals at a Shakopee park during the COVID-19 pandemic, he testified Monday. Neither did an Apple Valley gas station owner at the park next t… [+5841 chars]\"}, {'source': {'id': None, 'name': 'Forbes'}, 'author': 'Antonio Pequeño IV, Forbes Staff, \\n Antonio Pequeño IV, Forbes Staff\\n https://www.forbes.com/sites/antoniopequenoiv/', 'title': 'U.S. Labor Board Rules Apple Illegally Interrogated Staff And Confiscated Union Flyers', 'description': 'The NLRB’s ruling does not mean it can impose fines or direct penalties.', 'url': 'https://www.forbes.com/sites/antoniopequenoiv/2024/05/06/us-labor-board-rules-apple-illegally-interrogated-staff-and-confiscated-union-flyers/', 'urlToImage': 'https://imageio.forbes.com/specials-images/imageserve/663968acaa0be2071a15748e/0x0.jpg?format=jpg&height=900&width=1600&fit=bounds', 'publishedAt': '2024-05-06T23:34:22Z', 'content': 'The National Labor Relations Board ruled Monday that Apple illegally questioned staff of its World Trade Center store in New York City in 2022, affirming findings from a judge who determined employee… [+2138 chars]'}, {'source': {'id': None, 'name': 'Slashdot.org'}, 'author': 'feedfeeder', 'title': 'iPhone 15 Pro Max beats Samsung to be the top-selling smartphone in the world, says report - 9to5Mac', 'description': \"iPhone 15 Pro Max beats Samsung to be the top-selling smartphone in the world, says report9to5Mac Global Top 10 Best-Selling Smartphones: All From Apple, SamsungForbes Apple's (NASDAQ:AAPL) Control of Mobile Markets Proves Little Help - TipRanks.comTipRanks i…\", 'url': 'https://slashdot.org/firehose.pl?op=view&amp;id=173799598', 'urlToImage': None, 'publishedAt': '2024-05-06T23:34:12Z', 'content': 'Sign up for the Slashdot newsletter! OR check out the new Slashdot job board to browse remote jobs or jobs in your areaDo you develop on GitHub? You can keep using GitHub but automatically sync your … [+268 chars]'}, {'source': {'id': None, 'name': 'Blogs.com'}, 'author': 'SLHamlet', 'title': 'Successful Mixed Reality Social Experiences Need a Shared Virtual Workspace (Comment of the Week)', 'description': 'Good points from reader Martin K., riffing off Skarredghost\\'s design thoughts for creating powerful mixed reality experiences for the Apple Vision Pro: What each app needs to do is to establish what is known in the research on \"Computer-Supported Cooperative.…', 'url': 'https://nwn.blogs.com/nwn/2024/05/vision-pro-mixed-reality-social-design.html', 'urlToImage': 'https://nwn.blogs.com/.a/6a00d8341bf74053ef02dad0c1c1cd200d-600wi', 'publishedAt': '2024-05-06T23:30:20Z', 'content': \"Good points from reader Martin K., riffing off Skarredghost's design thoughts for creating powerful mixed reality experiences for the Apple Vision Pro:\\r\\nWhat each app needs to do is to establish what… [+3145 chars]\"}, {'source': {'id': None, 'name': 'Yanko Design'}, 'author': 'Srishti Mitra', 'title': 'Top 10 Tiny Product Ideas For Mother’s Day That Will Become Your Mom’s Everyday Essentials', 'description': 'Top 10 Tiny Product Ideas For Mother’s Day That Will Become Your Mom’s Everyday EssentialsMother’s Day is only a couple of days away, and this is the one day in the year when we get to shower some extra...', 'url': 'https://www.yankodesign.com/2024/05/06/top-10-tiny-product-ideas-for-mothers-day-that-will-become-your-moms-everyday-essentials/', 'urlToImage': 'https://www.yankodesign.com/images/design_news/2024/05/top-10-tiny-designs-for-enhancing-your-mums-daily-life-this-mothers-day/Mothers-Day_Gifts_tiny-product-designs_11.jpg', 'publishedAt': '2024-05-06T23:30:20Z', 'content': 'Mother’s Day is only a couple of days away, and this is the one day in the year when we get to shower some extra love on our moms and make them feel super special – although this should be every day.… [+10618 chars]'}, {'source': {'id': None, 'name': 'Thefly.com'}, 'author': None, 'title': 'Apple developing chips to run AI software in data centers, WSJ says', 'description': \"See the rest of the story here.\\n\\nthefly.com provides the latest financial news as it breaks. Known as a leader in market intelligence, The Fly's real-time, streaming news feed keeps individual investors, professional money managers, active traders, and corpor…\", 'url': 'https://thefly.com/permalinks/entry.php/id3911652/AAPL-Apple-developing-chips-to-run-AI-software-in-data-centers-WSJ-says', 'urlToImage': 'https://thefly.com/images/meta/periodicals.jpg', 'publishedAt': '2024-05-06T23:28:06Z', 'content': 'Earnings calls, analyst events, roadshows and more'}, {'source': {'id': None, 'name': 'Biztoc.com'}, 'author': 'wsj.com', 'title': 'Apple Is Developing AI Chips for Data Centers, Seeking Edge in Arms Race', 'description': 'The company is leaning on its long history of chip development in the effort, code-named Project ACDC. #projectacdc', 'url': 'https://biztoc.com/x/189aae20a7c59385', 'urlToImage': 'https://c.biztoc.com/274/og.png', 'publishedAt': '2024-05-06T23:28:05Z', 'content': 'The company is leaning on its long history of chip development in the effort, code-named Project ACDC.\\r\\n#projectacdc\\r\\nThis story appeared on wsj.com, 2024-05-06.'}, {'source': {'id': None, 'name': 'New York Post'}, 'author': 'Stephanie Webber', 'title': 'Chrissy Teigen wears neck brace ahead of Met Gala 2024 — here’s what happened', 'description': 'Chrissy Teigen sported a neck brace ahead of the 2024 Met Gala on Monday — and opened up about her injury via Instagram Story.', 'url': 'https://nypost.com/2024/05/06/entertainment/chrissy-teigen-wears-neck-brace-ahead-of-met-gala-2024-heres-what-happened/', 'urlToImage': 'https://nypost.com/wp-content/uploads/sites/2/2024/05/81352986.jpg?quality=75&strip=all&w=1024', 'publishedAt': '2024-05-06T23:25:35Z', 'content': 'Should she glue a flower to it?\\r\\nChrissy Teigen sported a neck brace ahead of the 2024 Met Gala on Monday and opened up about her injury via Instagram Story.\\r\\n“@ the Met,” she wrote over the photo.\\r\\n… [+1816 chars]'}, {'source': {'id': None, 'name': 'New York Post'}, 'author': 'Asia Grace', 'title': 'Jennifer Lopez’s Met Gala dress has 2.5 million beads — here’s how long it took to make', 'description': 'That “crazy little girl” from the Bronx is in full bloom, baby.\\xa0 As co-chair of the 2024 Met Gala, Jennifer Lopez, 54, sent tongues wagging in a “true couture creation” by Schiaparelli that took “about 800 hours” of work and featured 2.5 million bugle beads.\\xa0…', 'url': 'https://nypost.com/2024/05/06/entertainment/jennifer-lopezs-met-gala-dress-has-2-5-million-beads-heres-how-long-it-took-to-make/', 'urlToImage': 'https://nypost.com/wp-content/uploads/sites/2/2024/05/2024-new-york-gala-raises-81348633.jpg?quality=75&strip=all&w=1024', 'publishedAt': '2024-05-06T23:18:10Z', 'content': 'That crazy little girl from the Bronx is in full bloom, baby.\\xa0\\r\\nAs co-chair of the 2024 Met Gala, Jennifer Lopez, 54, sent tongues wagging in a true couture creation by Schiaparelli that took about 8… [+1310 chars]'}, {'source': {'id': None, 'name': 'XDA Developers'}, 'author': 'Elliot Alexander', 'title': 'The Rabbit R1 proves why dedicated AI needs to be something different', 'description': 'Dedicated AI devices will need to be something special to deserve a spot in your pocket', 'url': 'https://www.xda-developers.com/the-rabbit-r1-proves-why-dedicated-ai-needs-to-be-something-different/', 'urlToImage': 'https://static1.xdaimages.com/wordpress/wp-content/uploads/wm/2024/05/rabbit-r1-19.jpg', 'publishedAt': '2024-05-06T23:15:13Z', 'content': 'Key Takeaways\\r\\n<ul><li> AI hardware needs to offer unique features to compete with existing devices for pocket space. </li><li> Search functionality alone is not enough to stand out in the AI hardwar… [+6422 chars]'}, {'source': {'id': None, 'name': 'Ifixit.com'}, 'author': 'Jack Monahan', 'title': 'Canadian Farmers Say Software Is Crucial for Repairs', 'description': 'Every week, we get a roundup of recent developments in Right to Repair news, courtesy of Jack Monahan and Paul Roberts from Fight to Repair, a reader-supported publication. Sign up…', 'url': 'https://www.ifixit.com/News/95499/canadian-farmers-say-software-is-crucial-for-repairs', 'urlToImage': 'https://valkyrie.cdn.ifixit.com/media/2015/02/05163907/farm-equipment.jpeg', 'publishedAt': '2024-05-06T23:07:04Z', 'content': 'Every week, we get a roundup of recent developments in Right to Repair news, courtesy of Jack Monahan and Paul Roberts from Fight to Repair, a reader-supported publication. Sign up to\\xa0receive updates… [+2973 chars]'}, {'source': {'id': None, 'name': 'Android Headlines'}, 'author': 'Debasish Mandal', 'title': 'The Galaxy S24 Ultra is the best-selling Android phone in Q1 2024', 'description': 'Market research firm Counterpoint Research has shared the list of top 10 best-selling smartphones worldwide for Q1 2024. The Galaxy S24 series previously broke pre-order records in many countries. Now the list from Counterpoint Research reveals that the $1,30…', 'url': 'https://www.androidheadlines.com/2024/05/samsung-galaxy-s24-ultra-best-selling-android-phone-q1-2024.html', 'urlToImage': 'https://www.androidheadlines.com/wp-content/uploads/2024/03/Samsung-Galaxy-S24-Ultra-AM-AH-02-jpg.webp', 'publishedAt': '2024-05-06T23:06:32Z', 'content': 'Market research firm Counterpoint Research has shared the list of top 10 best-selling smartphones worldwide for Q1 2024. The Galaxy S24 series previously broke pre-order records in many countries. No… [+2151 chars]'}, {'source': {'id': None, 'name': 'Pausaparafeminices.com'}, 'author': 'Bruna Tavares', 'title': 'Greatest Shell out Because of the Cell phone Casinos', 'description': 'Posts Appreciate Games In your Mobile device! Boku Gambling establishment Costs Are usually 100 percent free Finest Online casinos One Commission Why Prefer Boku And not A classic Shell out By the Cell phone Gambling establishment? This really is one of the m…', 'url': 'https://www.pausaparafeminices.com/ppf/greatest-shell-out-because-of-the-cell-phone-casinos/', 'urlToImage': None, 'publishedAt': '2024-05-06T23:05:09Z', 'content': 'This really is one of the many restrictions of using the new spend by the cellular phone gambling enterprise program. After youve discovered anonline casinothat accepts cellular telephone expenses mo… [+5374 chars]'}, {'source': {'id': None, 'name': 'MobileSyrup'}, 'author': 'Dean Daley', 'title': 'Apple reveals 2024 Pride Collection with new Watch Band', 'description': 'Apple has revealed its 2024 Pride Collection in celebration of the LGBTQ+ communities. The Cupertino, California-based company is introducing a new Apple Watch Pride Edition Braided Solo Loop, available to order on May 22nd alongside a matching watch face and…', 'url': 'https://mobilesyrup.com/2024/05/06/apple-2024-pride-collection/', 'urlToImage': 'https://cdn.mobilesyrup.com/wp-content/uploads/2024/05/Apple-Pride-Collection-iPad-iPhone-and-Apple-Watch.jpg', 'publishedAt': '2024-05-06T23:00:56Z', 'content': 'Apple has revealed its 2024 Pride Collection in celebration of the LGBTQ+ communities. The Cupertino, California-based company is introducing a new Apple Watch Pride Edition Braided Solo Loop, availa… [+1071 chars]'}, {'source': {'id': None, 'name': 'Forbes'}, 'author': 'Laurie Werner, Contributor, \\n Laurie Werner, Contributor\\n https://www.forbes.com/sites/lauriewerner/', 'title': 'Master Chef Dominique Crenn Creates Sublime Meals For Air France', 'description': \"Michelin three star chef Dominique Crenn has adapted the poetic culinary style on view in her San Francisco restaurant Atelier Crenn to Air France's premium cabins.\", 'url': 'https://www.forbes.com/sites/lauriewerner/2024/05/06/master-chef-dominique-crenn-creates-sublime-meals-for-air-france/', 'urlToImage': 'https://imageio.forbes.com/specials-images/imageserve/66395b52ee0eb84ba3a228a0/0x0.jpg?format=jpg&height=900&width=1600&fit=bounds', 'publishedAt': '2024-05-06T22:58:56Z', 'content': \"Lobster with Pico de Gallo and tea sauce created by Michelin three star chef Dominique Crenn for Air ... [+] France's La Première\\r\\nAir France\\r\\nIn her Michelin three star restaurant Atelier Crenn in S… [+4058 chars]\"}, {'source': {'id': None, 'name': 'Biztoc.com'}, 'author': 'deadline.com', 'title': '‘The Super Mario Bros Movie’ Levels All The Way Up To Win Deadline’s 2023 Most Valuable Blockbuster Tournament', 'description': 'Universal and Illumination‘s smash The Super Mario Bros Movie finishes No. 1 to make it a wrap on Deadline’s Most Valuable Blockbuster tournament for 2023. While the industry is still coming out of Covid and the aftermath of the strikes, there’s no question a…', 'url': 'https://biztoc.com/x/4875053cac0902f2', 'urlToImage': 'https://c.biztoc.com/p/4875053cac0902f2/s.webp', 'publishedAt': '2024-05-06T22:58:05Z', 'content': 'Universal and Illuminations smash The Super Mario Bros Movie finishes No. 1 to make it a wrap on Deadlines Most Valuable Blockbuster tournament for 2023. While the industry is still coming out of Cov… [+301 chars]'}, {'source': {'id': None, 'name': 'Forbes'}, 'author': 'John Koetsier, Senior Contributor, \\n John Koetsier, Senior Contributor\\n https://www.forbes.com/sites/johnkoetsier/', 'title': 'Global Top 10 Best-Selling Smartphones: All From Apple, Samsung', 'description': 'One change: people are spending more for iPhones, with Apple’s pricy Pro line growing to represent half of all iPhone sales so far this year, up from just 24% in 2023.', 'url': 'https://www.forbes.com/sites/johnkoetsier/2024/05/06/global-top-10-best-selling-smartphones-all-from-apple-samsung/', 'urlToImage': 'https://imageio.forbes.com/specials-images/imageserve/66395d5fd77857b343a2064e/0x0.jpg?format=jpg&height=900&width=1600&fit=bounds', 'publishedAt': '2024-05-06T22:50:43Z', 'content': 'Global best-selling smartphones for Q1 2024\\r\\nCounterpoint\\r\\nEvery single one of the top ten best-selling smartphones globally is from one of just two companies: Apple and Samsung. Counterpoint Researc… [+2625 chars]'}, {'source': {'id': None, 'name': 'Deadline'}, 'author': 'Patrick Hipes', 'title': '‘The Super Mario Bros Movie’ Levels All The Way Up To Win Deadline’s 2023 Most Valuable Blockbuster Tournament', 'description': 'Universal and Illumination’s smash The Super Mario Bros Movie finishes No. 1 to make it a wrap on Deadline’s\\xa0Most Valuable Blockbuster tournament for 2023. While the industry is still coming out of Covid and the aftermath of the strikes, there’s no question a…', 'url': 'http://deadline.com/2024/05/the-super-mario-bros-movie-profits-1235902894/', 'urlToImage': 'https://deadline.com/wp-content/uploads/2024/04/Chris-Melendandri.jpg?w=1024', 'publishedAt': '2024-05-06T22:50:00Z', 'content': 'Universal and Illumination‘s smash The Super Mario Bros Movie finishes No. 1 to make it a wrap on Deadline’s\\xa0Most Valuable Blockbuster tournament for 2023. While the industry is still coming out of C… [+4810 chars]'}, {'source': {'id': None, 'name': 'Yahoo Entertainment'}, 'author': None, 'title': 'Apple Illegally Interrogated NYC Retail Staff, US Labor Board Rules', 'description': None, 'url': 'https://consent.yahoo.com/v2/collectConsent?sessionId=1_cc-session_b2089da8-bd36-49b8-bc16-fda4dbe371c3', 'urlToImage': None, 'publishedAt': '2024-05-06T22:48:39Z', 'content': \"If you click 'Accept all', we and our partners, including 237 who are part of the IAB Transparency &amp; Consent Framework, will also store and/or access information on a device (in other words, use … [+678 chars]\"}, {'source': {'id': None, 'name': 'Biztoc.com'}, 'author': 'billboard.com', 'title': 'Apple Unveils Beats Solo 4 Headphones & Solo Buds: Shop the New Release', 'description': 'All products and services featured are independently chosen by editors. However, Billboard may receive a commission on orders placed through its retail links, and the retailer may receive certain auditable data for accounting purposes. Get your summer playlis…', 'url': 'https://biztoc.com/x/5a4f36841f91b141', 'urlToImage': 'https://c.biztoc.com/p/5a4f36841f91b141/s.webp', 'publishedAt': '2024-05-06T22:48:08Z', 'content': 'All products and services featured are independently chosen by editors. However, Billboard may receive a commission on orders placed through its retail links, and the retailer may receive certain aud… [+309 chars]'}, {'source': {'id': None, 'name': '9to5Mac'}, 'author': 'Filipe Espósito', 'title': 'US Labor Board rules that Apple illegally interrogated retail employees in NYC', 'description': 'Apple on Monday was hit by a US Labor Board ruling on whether or not the company was illegally interrogating its employees about unionization activities. In that case, the board agreed that Apple had indeed been coercively interrogating its retail staff in Ne…', 'url': 'https://9to5mac.com/2024/05/06/us-labor-apple-interrogated-employees/', 'urlToImage': 'https://i0.wp.com/9to5mac.com/wp-content/uploads/sites/6/2022/10/apple-world-trade-center-store.jpg?resize=1200%2C628&quality=82&strip=all&ssl=1', 'publishedAt': '2024-05-06T22:44:13Z', 'content': 'Apple on Monday was hit by a US Labor Board ruling on whether or not the company was illegally interrogating its employees about unionization activities. In that case, the board agreed that Apple had… [+1787 chars]'}, {'source': {'id': None, 'name': 'AppleInsider'}, 'author': 'news@appleinsider.com (Marko Zivkovic)', 'title': \"Apple's new Photos app will utilize generative AI for image editing\", 'description': \"A new teaser on Apple's website could be indicative of some of the company's upcoming software plans, namely a new version of its ubiquitous Photos app that will tap generative AI to deliver Photoshop-grade editing capabilities for the average consumer, Apple…\", 'url': 'https://appleinsider.com/articles/24/05/06/apples-new-photos-app-will-utilize-generative-ai-for-image-editing', 'urlToImage': 'https://photos5.appleinsider.com/gallery/59563-121585-Cleanup2-xl.jpg', 'publishedAt': '2024-05-06T22:43:54Z', 'content': \"The new Clean Up feature will make removing objects significantly easier\\r\\nA new teaser on Apple's website could be indicative of some of the company's upcoming software plans, namely a new version of… [+4425 chars]\"}, {'source': {'id': None, 'name': 'Biztoc.com'}, 'author': 'teslarati.com', 'title': 'Elon Musk wants this legendary investor to buy Tesla stock', 'description': 'Elon Musk believes it is an “obvious move” for legendary investor Warren Buffett to buy Tesla stock. Buffett is one of the most successful investors in recent memory and has let the market dictate nearly every decision he makes, including his McDonald’s break…', 'url': 'https://biztoc.com/x/908003a5ece32f67', 'urlToImage': 'https://c.biztoc.com/p/908003a5ece32f67/og.webp', 'publishedAt': '2024-05-06T22:42:06Z', 'content': 'Elon Musk believes it is an obvious move for legendary investor Warren Buffett to buy Tesla stock.Buffett is one of the most successful investors in recent memory and has let the market dictate nearl… [+275 chars]'}, {'source': {'id': None, 'name': 'IndieWire'}, 'author': 'Samantha Bergeson', 'title': 'Ben Stiller Assures SZA More ‘Severance’ Is on the Way', 'description': 'Grammy winner SZA tweeted she\\'s \"dying of thirst\" during the two year wait for Season 2.', 'url': 'https://www.indiewire.com/news/general-news/ben-stiller-sza-severance-season-2-1235001155/', 'urlToImage': 'https://www.indiewire.com/wp-content/uploads/2022/07/Severance-Emmys-2022-surprise.jpg?w=650', 'publishedAt': '2024-05-06T22:30:00Z', 'content': 'Ben Stiller is assuring “Severance” fans that Season 2 is still on its way, more than two years since the Apple TV+\\xa0series rolled out its acclaimed first season. \\r\\nStiller responded to show super-fan… [+3092 chars]'}, {'source': {'id': None, 'name': 'Daily Beast'}, 'author': 'Pilar Melendez', 'title': 'Nathan Wade Speaks Out About Workplace Romance With Fani Willis', 'description': 'Alex Slitz-Pool/Getty Images\\r\\nNathan Wade, the former Fulton County special prosecutor in Trump’s election interference case, has spoken out for the first time since his affair with District Attorney Fani Willis. “Workplace romances are as American as apple p…', 'url': 'https://www.thedailybeast.com/nathan-wade-speaks-out-about-fani-willis-affair-donald-trump', 'urlToImage': 'https://img.thedailybeast.com/image/upload/c_crop,d_placeholder_euli9k,h_3375,w_6000,x_0,y_38/dpr_2.0/c_limit,w_740/fl_lossy,q_auto/v1715033137/GettyImages-2043986656_lc2xol', 'publishedAt': '2024-05-06T22:29:32Z', 'content': 'Nathan Wade, the former Fulton County special prosecutor in Trumps election interference case, has spoken out for the first time since his affair with District Attorney Fani Willis. \\r\\nWorkplace roman… [+1981 chars]'}, {'source': {'id': None, 'name': 'Biztoc.com'}, 'author': 'wolfstreet.com', 'title': 'Buffett Invests in T-bills instead of Stocks, Waits for Bad Stuff to Happen, Cash is King at 5%-plus', 'description': 'When the Oracle of Omaha gets dark-ish on stocks at these prices, he isn’t taken seriously, suddenly. It’s only when he hypes stocks that everyone jumps in behind him. Treasury bills are now all the rage at Berkshire Hathaway. They have been earning between 5…', 'url': 'https://biztoc.com/x/599261d930d65332', 'urlToImage': 'https://c.biztoc.com/274/og.png', 'publishedAt': '2024-05-06T22:28:10Z', 'content': 'When the Oracle of Omaha gets dark-ish on stocks at these prices, he isnt taken seriously, suddenly. Its only when he hypes stocks that everyone jumps in behind him.Treasury bills are now all the rag… [+275 chars]'}, {'source': {'id': None, 'name': 'New York Post'}, 'author': 'Tina Moore, Larry Celona, Jorge Fitz-Gibbon', 'title': 'NYPD academy graduates 576 as union says ‘we need more’ amid staff crunch', 'description': \"The NYPD academy on Monday graduated 576 new cops on Monday, including 33 who will join the MTA police force -- even as the city's PBA says more cops are still needed to patrol the Big Apple.\", 'url': 'https://nypost.com/2024/05/06/us-news/nypd-academy-graduates-576-nyc-mta-cops-in-latest-class/', 'urlToImage': 'https://nypost.com/wp-content/uploads/sites/2/2024/05/576-new-cops-madison-square-81344651.jpg?quality=75&strip=all&w=1024', 'publishedAt': '2024-05-06T22:26:17Z', 'content': 'The latest NYPD academy class will put 576 new city and MTA cops on the streets and in the city subway system including some second-generation officers.\\r\\nThe ceremony at Madison Square Garden on Mond… [+2915 chars]'}, {'source': {'id': None, 'name': 'Deadline'}, 'author': 'Erik Pedersen', 'title': 'Prolific Writer/Producer Graham Yost On The Challenges Of ‘Silo’, ‘Masters Of The Air’,’Slow Horses’ And Much More – Behind The Lens', 'description': 'Graham Yost, showrunner/Executive Producer/writer of the Apple TV+ series, Silo, may be one of the most prolific of all producers working in Television these days. His other credits just this year include other Apple hits like Masters Of The Air and Slow Hors…', 'url': 'https://deadline.com/video/graham-yost-video-interview/', 'urlToImage': 'https://deadline.com/wp-content/uploads/2024/05/BTL_DL.com_GRAHAM-YOST-1.jpg?w=1024', 'publishedAt': '2024-05-06T22:25:13Z', 'content': 'Graham Yost, showrunner/Executive Producer/writer of the Apple TV+ series, Silo, may be one of the most prolific of all producers working in Television these days. His other credits just this year in… [+1216 chars]'}, {'source': {'id': None, 'name': 'Digital Trends'}, 'author': 'Simon Cohen', 'title': 'Sonos headphones likely revealed in website slip-up', 'description': \"Sonos' unreleased headphones may have been inadvertently revealed by a European parts supplier.\", 'url': 'https://www.digitaltrends.com/home-theater/sonos-headphones-leaked-ahead-of-launch/', 'urlToImage': 'https://www.digitaltrends.com/wp-content/uploads/2024/05/ace1.jpg?resize=1200%2C630&p=1', 'publishedAt': '2024-05-06T22:15:48Z', 'content': 'Schuurman/Sonos\\r\\nSonos can’t catch a break. It seems that almost every time the brand has geared up for a new product launch, someone has beaten it to the punch, leaking most of the key information b… [+2255 chars]'}, {'source': {'id': None, 'name': 'Wccftech'}, 'author': 'Omar Sohail', 'title': 'Check Out These Amazing Deals Of The Day, With Discounts On Your Favorite Products', 'description': 'We have rounded up the best tech deals of the day for you on Amazon, where thousands of your favorite products have received significant price cuts to make each purchase easier on your wallet. Our list will continue to be updated for the day, so make sure you…', 'url': 'https://wccftech.com/deals-of-the-day-may-7-2024/', 'urlToImage': 'https://cdn.wccftech.com/wp-content/uploads/2024/05/Wccftech-Deals-Of-The-Day-copy.jpg', 'publishedAt': '2024-05-06T22:12:46Z', 'content': 'We have rounded up the best tech deals of the day for you on Amazon, where thousands of your favorite products have received significant price cuts to make each purchase easier on your wallet. Our li… [+2239 chars]'}, {'source': {'id': None, 'name': 'Android Central'}, 'author': 'michael.hicks@futurenet.com (Michael L Hicks)', 'title': 'Samsung wants to convert your Galaxy Watch heart data into ECGs using GenAI', 'description': \"Samsung already has passive AFib detection of irregular heart rhythm. This new patent will use generative AI to convert PPG data into ECG graphs — and we're intrigued.\", 'url': 'https://www.androidcentral.com/wearables/samsung-patents-afib-to-ecg-conversion-using-generative-ai', 'urlToImage': 'https://cdn.mos.cms.futurecdn.net/pyz2HzkMcwTP4FHrRhHoLK-1200-80.jpeg', 'publishedAt': '2024-05-06T22:12:31Z', 'content': 'What you need to know\\r\\n<ul><li>Samsung filed a U.S. patent for \"continuous atrial fibrillation detection via PPG to ECG signal translation\" on April 18.</li><li>The patent describes a generative AI m… [+3217 chars]'}, {'source': {'id': None, 'name': 'sixcolors.com'}, 'author': 'Jason Snell', 'title': 'The iPad Pro is no longer the future, so what’s next?', 'description': 'iPad Pro and keyboard, circa its October 2018 announcement.\\nIt’s hard to believe that it was more than five and a half years ago that I flew home from a New York Apple event, my mind spinning with the announcement of a new iPad Pro at a unique Apple event in …', 'url': 'https://sixcolors.com/post/2024/05/the-ipad-pro-is-no-longer-the-future-so-whats-next/', 'urlToImage': 'https://149426355.v2.pressablecdn.com/wp-content/themes/sixcolors/images/6colors_og_image.png', 'publishedAt': '2024-05-06T22:11:15Z', 'content': 'iPad Pro and keyboard, circa its October 2018 announcement.\\r\\nIts hard to believe that it was more than five and a half years ago that I flew home from a New York Apple event, my mind spinning with th… [+8843 chars]'}, {'source': {'id': None, 'name': 'NPR'}, 'author': 'NPR', 'title': 'After 10th gag order violation, judge threatens Trump with jail', 'description': 'For this episode of <em>Trump\\'s Trials</em>, <em>All Things Considered </em>host <a href=\"https://www.npr.org/people/2101154/ari-shapiro\">Ari Shapiro</a> speaks with NPR\\'s<a href=\"https://www.npr.org/people/1122051670/andrea-bernstein\"> Andrea Bernstein</a>.<…', 'url': 'https://www.npr.org/2025/05/03/1248905609/trumps-trials-gag-order-criminal-trial', 'urlToImage': 'https://media.npr.org/assets/img/2024/05/06/gettyimages-2151169180_wide-8362d32f18ab0be0ae97c2f47c773eb5b9ac6ced.jpg?s=1400&c=100&f=jpeg', 'publishedAt': '2024-05-06T22:10:07Z', 'content': 'Former U.S. President Donald Trump attends his trial for allegedly covering up hush money payments at Manhattan Criminal Court on May 6, 2024 in New York City.\\r\\nPool/Getty Images\\r\\nFor this episode of… [+941 chars]'}, {'source': {'id': None, 'name': 'HackRead'}, 'author': 'Deeba Ahmed', 'title': 'Cuckoo Mac Malware Mimics Music Converter to Steals Passwords and Crypto', 'description': 'By Deeba Ahmed\\nCuckoo malware targets macOS users, stealing passwords, browsing history, crypto wallet details & more. Disguised as a music converter, it poses a major security risk. Learn how to protect yourself from this sophisticated infostealer.\\nThis is a…', 'url': 'https://www.hackread.com/cuckoo-mac-malware-music-converter-passwords-crypto/', 'urlToImage': 'https://www.hackread.com/wp-content/uploads/2024/05/cuckoo-mac-malware-music-converter-passwords-crypto-1.jpg', 'publishedAt': '2024-05-06T22:09:34Z', 'content': 'Cybersecurity researchers from Mac security provider, Kandji, have discovered a new malware dubbed “Cuckoo” targeting macOS users. The malware is disguised as a music converter app like Spotify and c… [+2925 chars]'}, {'source': {'id': None, 'name': 'Biztoc.com'}, 'author': 'investorplace.com', 'title': '7 Stocks to Buy to Satisfy Your IRA Limits in 2024', 'description': 'These IRA stock picks are excellent individual contributors to any portfolio 2023 tax season has come and gone meaning it is time to consider 2024 contributions to your IRA. That will include some mix of Index and mutual funds, ETFs, bonds, and individual sto…', 'url': 'https://biztoc.com/x/6f8fc8fa5861f024', 'urlToImage': 'https://c.biztoc.com/p/6f8fc8fa5861f024/s.webp', 'publishedAt': '2024-05-06T22:08:07Z', 'content': 'These IRA stock picks are excellent individual contributors to any portfolio2023 tax season has come and gone meaning it is time to consider 2024 contributions to your IRA. That will include some mix… [+289 chars]'}, {'source': {'id': None, 'name': 'TheWrap'}, 'author': 'Andi Ortiz', 'title': 'Here Are All the Songs in ‘The Idea of You’', 'description': 'Yes, August Moon really came together to record music for the Prime Video film\\nThe post Here Are All the Songs in ‘The Idea of You’ appeared first on TheWrap.', 'url': 'https://www.thewrap.com/the-idea-of-you-soundtrack-all-the-songs/', 'urlToImage': 'https://www.thewrap.com/wp-content/uploads/2024/05/idea-of-you-nicholas-galitzine.jpg', 'publishedAt': '2024-05-06T22:02:54Z', 'content': 'The Idea of You centers on the romance between an art gallery owner and the much younger member of a fictional boyband, but the songs he and his bandmates sing are very real. And theyre part of a sou… [+2350 chars]'}, {'source': {'id': 'buzzfeed', 'name': 'Buzzfeed'}, 'author': 'Emma Lord', 'title': '42 Products To Subtly But Genuinely Elevate Your Life', 'description': 'Your one-stop shop for cheap \"luxury hotel\" bedsheets, tingly foot masks, and a pitcher that will make the most delicious cold brew at home.View Entire Post ›', 'url': 'https://www.buzzfeed.com/emmalord9/products-subtly-elevate-an', 'urlToImage': 'https://img.buzzfeed.com/buzzfeed-static/static/2024-04/25/21/campaign_images/7c79e813d63b/42-products-to-subtly-but-genuinely-elevate-your--5-1828-1714080101-2_dblbig.jpg', 'publishedAt': '2024-05-06T22:01:03Z', 'content': 'Note that the the noise-canceling is 95% ideal for keeping ears out for traffic and kid noises, if need be, but not 100% like the Apple version.\\xa0\\r\\nCheck out a TikTok of the headphones in action.\\xa0\\r\\nHe… [+1403 chars]'}, {'source': {'id': None, 'name': 'Arigato-ipod.com'}, 'author': 'Ygn', 'title': 'Apple Arcadeで6月6日リリースの新作ゲーム4本を発表。「Rabbids Multiverse」「Tomb of the Mask+」「Return to Monkey Island+」「Fabulous − Wedding Disaster+」', 'description': 'Apple Arcadeで2024年6月6日（木）にリリースされる新作ゲーム3本が発表されています。 App Storeで予約しておくことで、配信開始時にダウンロードされます。 Rabbids Multiverse 開発...\\nThe post Apple Arcadeで6月6日リリースの新作ゲーム4本を発表。「Rabbids Multiverse」「Tomb of the Mask+」「Return to Monkey Island+」「Fabulous − Wedding Disaster+」 first a…', 'url': 'https://arigato-ipod.com/2024/05/apple-arcade-new-games-june-6-2024.html', 'urlToImage': 'https://arigato-ipod.com/wp/wp-content/uploads/2024/05/240507applearcadenewgame.jpg', 'publishedAt': '2024-05-06T22:00:02Z', 'content': 'Apple Arcadeで2024年6月6日（木）にリリースされる新作ゲーム3本が発表されています。\\nApp Storeで予約しておくことで、配信開始時にダウンロードされます。\\n\\n\\nRabbids Multiverse\\n<ul>\\n<li>開発元：Ubisoft（ユービーアイソフト）</li>\\n<li>デッキ構築型の戦略ゲーム</li>\\n<li>公式サイト：Ubisoft</li>\\n</ul>\\n\\n… [+1054 chars]'}, {'source': {'id': None, 'name': 'Dealnews.com'}, 'author': None, 'title': '9th-Gen. Apple iPad 10.2\" Tablets at Best Buy: Up to $80 off + free shipping', 'description': 'A full range are up to $80 off list and the lowest price we could find. Plus, they come with a host of valuable freebies: <ul> <li>Free Apple TV+ for 3 months (new or qualified returning subscribers only)</li> <li>Free Apple Fitness+ for 3 months (new subscri…', 'url': 'https://www.dealnews.com/9-th-Gen-Apple-iPad-10-2-Tablets-at-Best-Buy-Up-to-80-off-free-shipping/21573475.html', 'urlToImage': 'https://c.dlnws.com/image/upload/f_auto,t_maximum,q_auto/content/geljgwyjku8ez73lbvvk.jpg', 'publishedAt': '2024-05-06T21:59:23Z', 'content': 'moreWith qualifying trade-ins - save up to $1,200 on a new MacBook (pictured), up to $325 on a new unlocked iPhone, up to $600 on a new iPad, and more besides. Plus, My Best Buy Plus and Total member… [+171 chars]'}, {'source': {'id': None, 'name': 'Macdailynews.com'}, 'author': 'MacDailyNews', 'title': 'Apple said to prep 20.3-inch foldable hybrid Mac/iPad for 2025, foldable iPhone in 2026', 'description': 'Analyst Jeff Pu in a note to clients expects Apple will make a 20.3-inch foldable hybrid device in late 2025, followed by a foldable iPhone…\\nThe post Apple said to prep 20.3-inch foldable hybrid Mac/iPad for 2025, foldable iPhone in 2026 appeared first on Mac…', 'url': 'https://macdailynews.com/2024/05/06/apple-said-to-prep-20-3-inch-foldable-hybrid-mac-ipad-for-2025-foldable-iphone-in-2026/', 'urlToImage': 'https://149359564.v2.pressablecdn.com/wp-content/uploads/2020/02/200213_uspto_foldable_ipad.png', 'publishedAt': '2024-05-06T21:54:45Z', 'content': 'An Apple U.S. Patent application illustration: “Electronic devices with flexible displays and hinges”\\r\\nHaitong International Securities analyst Jeff Pu in a note to clients expects Apple will begin m… [+2456 chars]'}, {'source': {'id': None, 'name': 'Slashdot.org'}, 'author': 'feedfeeder', 'title': 'Apple Will Reportedly Offer iPhone Slim, Featuring Smaller Display, in 2025. - CNET', 'description': 'The next-next generation iPhone, planned for 2025, will apparently benefit from shrinking sensors and chips.', 'url': 'https://slashdot.org/firehose.pl?op=view&amp;id=173798998', 'urlToImage': None, 'publishedAt': '2024-05-06T21:53:40Z', 'content': 'Sign up for the Slashdot newsletter! OR check out the new Slashdot job board to browse remote jobs or jobs in your areaDo you develop on GitHub? You can keep using GitHub but automatically sync your … [+268 chars]'}, {'source': {'id': None, 'name': 'TidBITS'}, 'author': 'Adam Engst', 'title': 'Going All in on MagSafe for the iPhone in the Office, Bedroom, and Car', 'description': 'Since upgrading to an iPhone 15 Pro last year, Adam Engst has been working to incorporate MagSafe charging into his tech life, adding mounts and chargers that make it easier to use and charge the iPhone in different aspects of his life.', 'url': 'https://tidbits.com/2024/05/06/going-all-in-on-magsafe-for-the-iphone-in-the-office-bedroom-and-car/', 'urlToImage': 'https://tidbits.com/wp/../uploads/2024/05/Gripmunk-Side-Hustle-scaled.jpg', 'publishedAt': '2024-05-06T21:52:27Z', 'content': 'Im often an early adopter, but not always. Apple debuted wireless charging with the iPhone 8 in 2019 using the Qi standard (see How I Learned to Stop Worrying and Love Wireless Charging, 10 June 2019… [+18730 chars]'}, {'source': {'id': None, 'name': 'Idownloadblog.com'}, 'author': 'Cody Lee', 'title': 'This foldable 3-in-1 Anker wireless charging station is back down to $17', 'description': \"We featured this deal a few months ago and the response was great, so we're re-upping with the latest price drop. The Anker 335 Wireless Charger is back down to its all-time low price. It has a wireless charging pad for your iPhone and AirPods, a slot for you…\", 'url': 'https://www.idownloadblog.com/2024/05/06/foldable-anker-charging-deal/', 'urlToImage': 'https://media.idownloadblog.com/wp-content/uploads/2024/04/anker-charging-stand-17.jpg', 'publishedAt': '2024-05-06T21:51:22Z', 'content': 'We featured this deal a few months ago and the response was great, so we’re re-upping with the latest price drop. The Anker 335 Wireless Charger is back down to its all-time low price. It has a wirel… [+1189 chars]'}, {'source': {'id': None, 'name': 'New York Post'}, 'author': 'Joe Marino, Amanda Woods, Steve Janoski', 'title': 'Globetrotting jewelry thief caught after hitting NYC Cartier, Tiffany shops is wanted for Beverly Hills, Miami, South Korea heists: sources', 'description': 'Yaorong Wan, of Queens, has been accused of a litany of crimes related to his sticky-fingered crime spree, during which he allegedly stole diamond rings valued at nearly $300,000 and an $18,000 watch.', 'url': 'https://nypost.com/2024/05/06/us-news/globetrotting-jewelry-thief-finally-nabbed-after-pair-of-nyc-thefts/', 'urlToImage': 'https://nypost.com/wp-content/uploads/sites/2/2024/05/mugshot-alleged-international-jewel-thief-81328644.jpg?quality=75&strip=all&w=1024', 'publishedAt': '2024-05-06T21:49:34Z', 'content': 'A globetrotting jewelry thief suspected of ripping off swanky stores in Beverly Hills, Miami and South Korea is now behind bars following heists at Cartier and Tiffany in New York City, The Post has … [+5667 chars]'}, {'source': {'id': None, 'name': 'Forbes'}, 'author': 'Kris Holt, Contributor, \\n Kris Holt, Contributor\\n https://www.forbes.com/sites/krisholt/', 'title': 'Today’s NYT ‘Connections’ Hints And Answers For Tuesday, May 7', 'description': \"Looking for some help with Tuesday's NYT Connections words? Some hints and the answers are right here.\", 'url': 'https://www.forbes.com/sites/krisholt/2024/05/06/todays-nyt-connections-hints-and-answers-for-tuesday-may-7/', 'urlToImage': 'https://imageio.forbes.com/specials-images/imageserve/64de654d82fd643c3ad8ae1f/0x0.jpg?format=jpg&height=900&width=1600&fit=bounds', 'publishedAt': '2024-05-06T21:45:58Z', 'content': \"Find the links between the words to win today's game of Connections.\\r\\ngetty\\r\\nLooking for Mondays Connections hints and answers? You can find them here:\\r\\nForbesToday's NYT 'Connections' Hints And Answ… [+3812 chars]\"}, {'source': {'id': None, 'name': '/FILM'}, 'author': 'staff@slashfilm.com (Ryan Scott)', 'title': 'Godzilla X Kong Is Now The Highest-Grossing Godzilla Movie Ever At The Box Office', 'description': \"Adam Wingard's Godzilla x Kong: The New Empire has overtaken Gareth Edwards' 2014 Godzilla film to become the highest-grossing Godzilla movie of all time.\", 'url': 'https://www.slashfilm.com/1576756/godzilla-x-kong-now-highest-grossing-godzilla-movie-ever-box-office/', 'urlToImage': 'https://www.slashfilm.com/img/gallery/godzilla-x-kong-is-now-the-highest-grossing-godzilla-movie-ever-at-the-box-office/l-intro-1715027687.jpg', 'publishedAt': '2024-05-06T21:45:42Z', 'content': '\"Godzilla\" has remained shockingly enduring as a franchise, with nearly 40 films released across seven decades. The original \\'54 film is regarded as not just a qualified success of the genre, but a t… [+1452 chars]'}, {'source': {'id': None, 'name': 'TheWrap'}, 'author': 'Rachel Marlowe', 'title': 'Victoria Beckham Says Mango Collection Launch Is ‘True to My Brand DNA’', 'description': 'Plus, Laura Dern headlines Roger Vivier’s \"Travelling Icons\" short film series and Tiffany & Co. takes over The Beverly Estate \\nThe post Victoria Beckham Says Mango Collection Launch Is ‘True to My Brand DNA’ appeared first on TheWrap.', 'url': 'https://www.thewrap.com/wrapstyle-victoria-beckham-mango-collection-launch/', 'urlToImage': 'https://www.thewrap.com/wp-content/uploads/2024/05/Victoria-Beckham.jpeg', 'publishedAt': '2024-05-06T21:45:00Z', 'content': 'Victoria Beckham x Mango hits stores,\\xa0Laura Dern headlines Roger Viviers\\xa0Travelling Icons\\xa0short film series, Tiffany &amp; Co. takes over The Beverly Estate for a star-studded launch party and Nadia … [+11198 chars]'}, {'source': {'id': None, 'name': 'Cdm.link'}, 'author': 'Peter Kirn', 'title': 'Mid-1980s GE and Maxell cassette player advertising was next-level', 'description': 'In a post-apocalyptic dystopian nightmare, handsome models will find the oppression with their … GE cassette players. Look, it all makes some kind of 1985 sense. This is exactly how people do not feel about their smartphone in 2024. I don’t know exactly what …', 'url': 'https://cdm.link/2024/05/scifi-cassette-ads/', 'urlToImage': 'https://cdm.link/app/uploads/2024/05/tapead-scaled.jpg', 'publishedAt': '2024-05-06T21:37:37Z', 'content': 'In a post-apocalyptic dystopian nightmare, handsome models will find the oppression with their … GE cassette players. Look, it all makes some kind of 1985 sense. This is exactly how people do not fee… [+1660 chars]'}, {'source': {'id': None, 'name': 'New York Post'}, 'author': 'Chris Altman', 'title': 'BetMGM Casino Bonus Code NPBONUS: 100% Deposit Match | May 2024', 'description': 'Register with BetMGM Casino today using the bonus code NPBONUS to unlock a 100% deposit match worth up to $1,000 in New Jersey, Michigan and Pennsylvania or $2,500 in West Virginia!', 'url': 'https://nypost.com/sports/betmgm-casino-bonus-code/', 'urlToImage': 'https://nypost.com/wp-content/uploads/sites/2/2024/05/GettyImages-860731956-e1715031335975.jpg?quality=75&strip=all&w=1024', 'publishedAt': '2024-05-06T21:36:09Z', 'content': 'Commercial Content. 21+. Action Network is the official betting partner of the New York Post, which edits this content.\\r\\nWhile countless casino-goers worldwide are familiar with MGM Resorts and its l… [+22481 chars]'}, {'source': {'id': None, 'name': 'Biztoc.com'}, 'author': 'npr.org', 'title': 'How Colorado towns are trying to get some water certainty : The Indicator from Planet Money', 'description': \"In Western Colorado, towns and farms are banding together to pay a hundred million dollars for water they don't intend to use. Today on the show, how scarcity, climate change and a first-dibs system of water management is forcing towns, farms and rural reside…\", 'url': 'https://biztoc.com/x/04c3963fd939c4d0', 'urlToImage': 'https://c.biztoc.com/p/04c3963fd939c4d0/s.webp', 'publishedAt': '2024-05-06T21:36:05Z', 'content': \"In Western Colorado, towns and farms are banding together to pay a hundred million dollars for water they don't intend to use. Today on the show, how scarcity, climate change and a first-dibs system … [+320 chars]\"}, {'source': {'id': 'nbc-news', 'name': 'NBC News'}, 'author': 'Ryan J. Reilly', 'title': \"DOJ seeks 11 years for conservative scion Brent Bozell IV, saying he 'led the charge' on Jan. 6\", 'description': 'Federal prosecutors are seeking more than 11 years in federal prison for Jan. 6 defendant Brent Bozell IV, the son and grandson of major conservative figures.', 'url': 'https://www.nbcnews.com/politics/justice-department/doj-seeks-11-years-conservative-scion-brent-bozell-iv-saying-led-charg-rcna150701', 'urlToImage': 'https://media-cldnry.s-nbcnews.com/image/upload/t_nbcnews-fp-1200-630,f_auto,q_auto:best/rockcms/2024-05/210218-leo-brent-bozell-2x1-al-1018-fdd944.jpg', 'publishedAt': '2024-05-06T21:35:20Z', 'content': 'WASHINGTON Federal prosecutors are seeking more than 11 years in federal prison for convicted Jan. 6 defendant Brent Bozell IV, the son and grandson of two men who shaped the American conservative mo… [+6369 chars]'}, {'source': {'id': None, 'name': 'Snopes.com'}, 'author': 'Taija PerryCook', 'title': 'Real 3D Model of the Biblical Eve Constructed by Princeton University Scientists?', 'description': 'An image shows a Princeton University 3D model accurately depicting what Eve, the first woman created by God in the Bible, looked like.', 'url': 'https://www.snopes.com//fact-check/3d-model-of-eve/', 'urlToImage': 'https://mediaproxy.snopes.com/width/1200/https://media.snopes.com/2024/05/3d_eve_model.jpg', 'publishedAt': '2024-05-06T21:35:00Z', 'content': 'Claim:\\r\\nAn image shows a Princeton University 3D model accurately depicting what Eve, the first woman created by God in the Bible, looked like. \\r\\nOn May 4, 2024, X account @XHabib posted an image cla… [+2682 chars]'}, {'source': {'id': None, 'name': 'Johnnyjet.com'}, 'author': 'Johnny Jet', 'title': 'American Airlines baggage handler busted for ‘bowling with bags’', 'description': 'An American Airlines baggage handler has been caught on video doing what can only be described as ‘bowling with bags’. It’s not a great look for American Airlines but I...\\nThe post American Airlines baggage handler busted for ‘bowling with bags’ appeared firs…', 'url': 'https://johnnyjet.com/american-airlines-baggage-handler-busted-for-bowling-with-bags/', 'urlToImage': 'https://johnnyjet.com/wp-content/uploads/2024/05/american-airlines-baggage-handler-bowling.jpg', 'publishedAt': '2024-05-06T21:34:27Z', 'content': 'An American Airlines baggage handler has been caught on video doing what can only be described as ‘bowling with bags’. It’s not a great look for American Airlines but I cant say I really blame the wo… [+2760 chars]'}, {'source': {'id': None, 'name': 'Biztoc.com'}, 'author': 'investors.com', 'title': 'Futures: Stocks Extend Gains; Apple Event Next', 'description': \"Dow Jones futures, along with S&P 500 futures and Nasdaq 100 futures, were little changed ahead of Tuesday's stock market open. After the close Monday, artificial intelligence leader Palantir Technologies (PLTR) plunged on first-quarter earnings results, whil…\", 'url': 'https://biztoc.com/x/8d2a2c6b46db6653', 'urlToImage': 'https://c.biztoc.com/p/8d2a2c6b46db6653/s.webp', 'publishedAt': '2024-05-06T21:32:05Z', 'content': \"Dow Jones futures, along with S&amp;P 500 futures and Nasdaq 100 futures, were little changed ahead of Tuesday's stock market open. After the close Monday, artificial intelligence leader Palantir Tec… [+314 chars]\"}, {'source': {'id': None, 'name': 'Biztoc.com'}, 'author': 'npr.org', 'title': 'How Colorado towns are trying to get some water certainty', 'description': \"In Western Colorado, towns and farms are banding together to pay a hundred million dollars for water they don't intend to use. Today on the show, how scarcity, climate change and a first-dibs system of water management is forcing towns, farms and rural reside…\", 'url': 'https://biztoc.com/x/02a6f8589b8751c7', 'urlToImage': 'https://c.biztoc.com/p/02a6f8589b8751c7/s.webp', 'publishedAt': '2024-05-06T21:31:31Z', 'content': \"In Western Colorado, towns and farms are banding together to pay a hundred million dollars for water they don't intend to use. Today on the show, how scarcity, climate change and a first-dibs system … [+320 chars]\"}, {'source': {'id': None, 'name': 'CNET'}, 'author': 'Ian Sherr', 'title': 'Apple Will Reportedly Offer iPhone Slim, Featuring Smaller Display, in 2025. - CNET', 'description': 'The next-next generation iPhone, planned for 2025, will apparently benefit from shrinking sensors and chips.', 'url': 'https://www.cnet.com/tech/mobile/apple-will-reportedly-offer-iphone-slim-featuring-smaller-display-in-2025/', 'urlToImage': 'https://www.cnet.com/a/img/resize/8be2aa3c1dad8ee602353e86e6c0563fc6d352e8/hub/2024/04/12/05b14377-5d95-48a0-9250-3bc73fdab306/iphone-15-pro-max-titanium.png?auto=webp&fit=crop&height=675&width=1200', 'publishedAt': '2024-05-06T21:30:11Z', 'content': 'Apple is working on technology that would \"dramatically\" shrink the front-facing FaceID and camera sensors on its iPhone 17, according to a new financial analyst report. The result would effectively … [+1804 chars]'}, {'source': {'id': None, 'name': 'Investing.com'}, 'author': 'Investing.com', 'title': \"Lucid Group's SVP of Digital Michael Bell Steps Down\", 'description': \"Lucid Group's SVP of Digital Michael Bell Steps Down\", 'url': 'https://www.investing.com/news/company-news/lucid-groups-svp-of-digital-michael-bell-steps-down-93CH-3422211', 'urlToImage': 'https://i-invdn-com.investing.com/news/news_headline_rolled_69x52._800x533_L_1419494221.jpg', 'publishedAt': '2024-05-06T21:29:45Z', 'content': \"Lucid Group, Inc. (NASDAQ: NASDAQ:LCID) disclosed today that Michael Bell, the company's Senior Vice President of Digital, has resigned to pursue other opportunities. His resignation is effective imm… [+1150 chars]\"}, {'source': {'id': None, 'name': 'STLtoday.com'}, 'author': 'By Daniel Guerrero St. Louis Post-Dispatch', 'title': 'Quinn Mathews and Nathan Church named top Cardinals prospect performers for April', 'description': 'In four starts across April, lefty Quinn Mathews posted a 0.50 ERA and collected 38 strikeouts in 18 innings in Low-A while outfielder Nathan Church produced a .349 average, and a .914 OPS in 20 Double-A games.', 'url': 'https://www.stltoday.com/sports/professional/mlb/cardinals/minor-league/quinn-mathews-and-nathan-church-named-top-cardinals-prospect-performers-for-april/article_ad38dd00-0bef-11ef-b75c-f756772ea323.html', 'urlToImage': 'https://bloximages.newyork1.vip.townnews.com/stltoday.com/content/tncms/assets/v3/editorial/a/d3/ad38dd00-0bef-11ef-b75c-f756772ea323/66394c393e79c.preview.jpg?crop=1763%2C926%2C0%2C125&resize=1200%2C630&order=crop%2Cresize', 'publishedAt': '2024-05-06T21:29:00Z', 'content': 'Listen now and subscribe: Apple Podcasts | Spotify\\r\\nLeft-handed pitcher Quinn Mathews and outfielder Nathan Church received Cardinals minor league pitcher and player of the month honors for April, it… [+1489 chars]'}, {'source': {'id': None, 'name': 'Mactrast.com'}, 'author': 'Chris Hauk', 'title': 'Apple Debuts Its 2024 Pride Edition Band and Watch Face', 'description': 'Apple today\\xa0announced its new Pride Edition Braided Solo Loop Apple Watch band, watch face, and wallpaper.Read More...', 'url': 'https://www.mactrast.com/2024/05/apple-debuts-its-2024-pride-edition-band-and-watch-face/', 'urlToImage': 'https://www.mactrast.com/wp-content/uploads/2024/05/Apple-Pride-Collection-iPad-iPhone-and-Apple-Watch_big.jpg.large_.jpg', 'publishedAt': '2024-05-06T21:28:32Z', 'content': 'Apple today\\xa0announced its new Pride Edition Braided Solo Loop Apple Watch band, watch face, and wallpaper. The new Apple Watch Pride Edition Braided Solo Loop will be available to order starting May … [+2510 chars]'}, {'source': {'id': None, 'name': 'Marketscreener.com'}, 'author': None, 'title': 'Tech Advances as Mega-Cap Firms Test Record Highs -- Tech Roundup', 'description': '(marketscreener.com) \\n Shares of technology companies rose as mega-cap firms tested all-time highs. \\n\\n Shares of artificial-intelligence powering chip maker Nvidia rose by more than 3%, approaching its peak for the year, nearly double its value at the end of …', 'url': 'https://www.marketscreener.com/quote/stock/JOYCE-CORPORATION-LTD-10353060/news/Tech-Advances-as-Mega-Cap-Firms-Test-Record-Highs-Tech-Roundup-46641240/', 'urlToImage': 'https://www.marketscreener.com/images/twitter_MS_fdnoir.png', 'publishedAt': '2024-05-06T21:27:17Z', 'content': 'Shares of technology companies rose as mega-cap firms tested all-time highs. \\r\\nShares of artificial-intelligence powering chip maker Nvidia rose by more than 3%, approaching its peak for the year, ne… [+950 chars]'}, {'source': {'id': None, 'name': 'Bloguismo.com'}, 'author': 'Anairas', 'title': 'Cellular Local casino No deposit Extra, 2024 No deposit Gambling enterprise Bonuses!', 'description': 'Content Using Totally free Revolves Incentives In your favor Is the 5 100 percent free No deposit Added bonus Worthwhile? Tips When Ranking Cellular Gambling enterprise No-deposit Product sales Everything you need to Understand Mobile No deposit Incentives To…', 'url': 'https://www.bloguismo.com/cellular-local-casino-no-deposit-extra-2024-no-deposit-gambling-enterprise-bonuses/', 'urlToImage': 'https://g.twimg.com/Twitter_logo_blue.png', 'publishedAt': '2024-05-06T21:27:05Z', 'content': 'To locate more well worth from your own dumps, you might unlock free revolves having a qualifying put which have 18 100 percent free revolves readily available daily. As well as sophisticated campaig… [+6665 chars]'}, {'source': {'id': None, 'name': 'NPR'}, 'author': 'Alex Hager', 'title': 'How Colorado towns are trying to get some water certainty', 'description': \"In Western Colorado, towns and farms are banding together to pay a hundred million dollars for water they don't intend to use. Today on the show, how scarcity, climate change and a first-dibs system of water management is forcing towns, farms and rural reside…\", 'url': 'https://www.npr.org/2024/05/06/1197964453/colorado-shoshone-power-plant-water-rights', 'urlToImage': 'https://media.npr.org/assets/img/2024/05/06/photo1-fence_wide-da33727b542a6499ff6d22a065c769949395fae1.jpg?s=1400&c=100&f=jpeg', 'publishedAt': '2024-05-06T21:22:25Z', 'content': 'The Shoshone Generating Station, a hydroelectric power plant on the Colorado River east of Glenwood Canyon. (Alex Hager, KUNC)\\r\\nAlex Hager/KUNC\\r\\nIn Western Colorado, towns and farms are banding toget… [+577 chars]'}, {'source': {'id': None, 'name': 'Screen Rant'}, 'author': 'Kai Young', 'title': \"Newest Fantastic Four Casting News Could Bring The Team's Oldest Villain To Life For The First Time In 63 Years\", 'description': \"One of Marvel Comics' original villains has never been adapted into live-action, but Marvel Studios' The Fantastic Four may be about to change that.\", 'url': 'https://screenrant.com/paul-walter-hauser-fantastic-four-mole-man-rumor/', 'urlToImage': 'https://static1.srcdn.com/wordpress/wp-content/uploads/2024/05/paul-walter-hauser-with-the-fantastic-four-fighting-mole-man-in-marvel-comics.jpg', 'publishedAt': '2024-05-06T21:20:11Z', 'content': \"Summary\\r\\n<ul><li> Paul Walter Hauser has been cast in an undisclosed role in Marvel Studios' upcoming \\r\\nThe Fantastic Four\\r\\n. </li><li> Paul Walter Hauser's previous villainous roles make him perfect… [+5483 chars]\"}, {'source': {'id': None, 'name': 'Commonsensewithmoney.com'}, 'author': 'F2D', 'title': 'Beats Studio Pro Headphones – Only $179.99!', 'description': 'Great deal on these highly-rated headphones! Head over to Amazon where you can get these Beats Studio Pro Headphones for only $179.99! (Reg. $349.99) Details include:\\n\\nBEATS’ CUSTOM ACOUSTIC PLATFORM delivers rich, immersive sound whether you’re...', 'url': 'https://www.commonsensewithmoney.com/beats-studio-pro-headphones-179-99/', 'urlToImage': 'https://www.commonsensewithmoney.com/wp-content/uploads/2024/05/51t0IE0zjaL._AC_SL1500_.jpg', 'publishedAt': '2024-05-06T21:15:56Z', 'content': 'Great deal on these highly-rated headphones! Head over to Amazon where you can get these Beats Studio Pro Headphones for only $179.99! (Reg. $349.99) Details include:\\r\\n<ul><li>BEATS’ CUSTOM ACOUSTIC … [+1174 chars]'}, {'source': {'id': None, 'name': 'Thehillstimes.in'}, 'author': 'The Hills Times', 'title': 'World shares track Wall St’s advance fuelled by cooler jobs data', 'description': 'PARIS, May 6: World shares were mostly higher on Monday after Wall Street ended last week with the market’s best day in more than two months in a rally backed by cooler-than-expected US employment data. European markets started the day with gains. Germany’s D…', 'url': 'https://thehillstimes.in/business/world-shares-track-wall-sts-advance-fuelled-by-cooler-jobs-data', 'urlToImage': None, 'publishedAt': '2024-05-06T21:15:56Z', 'content': 'PARIS, May 6: World shares were mostly higher on Monday after Wall Street ended last week with the markets best day in more than two months in a rally backed by cooler-than-expected US employment dat… [+2562 chars]'}, {'source': {'id': None, 'name': '[Removed]'}, 'author': None, 'title': '[Removed]', 'description': '[Removed]', 'url': 'https://removed.com', 'urlToImage': None, 'publishedAt': '1970-01-01T00:00:00Z', 'content': '[Removed]'}, {'source': {'id': None, 'name': 'Slashdot.org'}, 'author': 'Anonymous Coward', 'title': 'Pokemon Go Players Are Vandalizing Real Maps To Catch Rare Pokemom', 'description': 'Pokemon Go players are creating a headache for members of the open source map tool OpenStreetMaps by adding fake beaches where they don’t exist in hopes of more easily catching Wigletts, a Pokemon that only spawns on beaches. OpenStreetMaps is a free, open so…', 'url': 'https://slashdot.org/submission/17319892/pokemon-go-players-are-vandalizing-real-maps-to-catch-rare-pokemom', 'urlToImage': None, 'publishedAt': '2024-05-06T21:11:54Z', 'content': 'Pokemon Go players are creating a headache for members of the open source map tool OpenStreetMaps by adding fake beaches where they don’t exist in hopes of more easily catching Wigletts, a Pokemon th… [+1956 chars]'}, {'source': {'id': None, 'name': 'Thehillstimes.in'}, 'author': 'The Hills Times', 'title': 'Asian shares track Wall St’s advance fueled by cooler jobs data', 'description': 'BANGKOK, May 6: Asian shares were mostly higher on Monday after Wall Street ended last week with the stock market’s best day in over two months in a rally backed by the cooler-than-expected US employment data. US futures edged higher and oil prices rose. The …', 'url': 'https://thehillstimes.in/business/asian-shares-track-wall-sts-advance-fueled-by-cooler-jobs-data', 'urlToImage': None, 'publishedAt': '2024-05-06T21:10:53Z', 'content': 'BANGKOK, May 6: Asian shares were mostly higher on Monday after Wall Street ended last week with the stock markets best day in over two months in a rally backed by the cooler-than-expected US employm… [+3555 chars]'}, {'source': {'id': None, 'name': '[Removed]'}, 'author': None, 'title': '[Removed]', 'description': '[Removed]', 'url': 'https://removed.com', 'urlToImage': None, 'publishedAt': '1970-01-01T00:00:00Z', 'content': '[Removed]'}, {'source': {'id': None, 'name': 'Biztoc.com'}, 'author': 'techcrunch.com', 'title': 'Lucid loses longtime Apple and Intel exec who steered software division', 'description': 'Lucid Motors’ senior vice president of digital Mike Bell has resigned from his position. The company said in a filing Monday that the longtime Apple and Intel executive’s resignation is “effective immediately, in order to pursue other opportunities.” Lucid sa…', 'url': 'https://biztoc.com/x/b0836f83dc881b3b', 'urlToImage': 'https://c.biztoc.com/p/b0836f83dc881b3b/s.webp', 'publishedAt': '2024-05-06T21:06:04Z', 'content': 'Lucid Motors senior vice president of digital Mike Bell has resigned from his position. The company said in a filing Monday that the longtime Apple and Intel executives resignation is effective immed… [+269 chars]'}, {'source': {'id': 'cbs-news', 'name': 'CBS News'}, 'author': 'Brittany Vincent', 'title': 'Save $300 on the Apple Studio Display 5K monitor at Amazon now', 'description': 'Save big on this 5K display, perfect for creatives and anyone with a premium work from home setup.', 'url': 'https://www.cbsnews.com/essentials/apple-studio-display-monitor-deal-amazon/', 'urlToImage': 'https://assets2.cbsnewsstatic.com/hub/i/r/2024/05/06/d3fa7dec-5af6-4594-a35c-a39f0c9da0c3/thumbnail/1200x630/3b58ddc641df745233c2e6669aa5349c/womanusingapple.jpg?v=1d6c78a71b7b6252b543a329b3a5744d', 'publishedAt': '2024-05-06T21:03:20Z', 'content': \"Apple\\r\\nLooking for a significant monitor upgrade? Whether you work from home, are looking for the perfect graduation gift or you just want a crisp, eye-popping display to boast about, you can't go wr… [+2177 chars]\"}, {'source': {'id': None, 'name': 'Yahoo Entertainment'}, 'author': None, 'title': 'Lucid loses longtime Apple and Intel exec who steered software division', 'description': None, 'url': 'https://consent.yahoo.com/v2/collectConsent?sessionId=1_cc-session_9d5669e9-c977-4da3-9e78-cf6fd9ee3a8b', 'urlToImage': None, 'publishedAt': '2024-05-06T21:03:19Z', 'content': \"If you click 'Accept all', we and our partners, including 237 who are part of the IAB Transparency &amp; Consent Framework, will also store and/or access information on a device (in other words, use … [+678 chars]\"}, {'source': {'id': None, 'name': 'Mactrast.com'}, 'author': 'Chris Hauk', 'title': 'Mention of ‘Apple Pencil Pro’ Found in Code on Apple Website in Japan', 'description': 'A new tweet says there is a reference to an unreleased \"Apple Pencil Pro\" in the source code for Apple\\'s homepage in Japan.Read More...', 'url': 'https://www.mactrast.com/2024/05/mention-of-apple-pencil-pro-found-in-code-on-apple-website-in-japan/', 'urlToImage': 'https://www.mactrast.com/wp-content/uploads/2024/05/Apple-Pencil.jpg', 'publishedAt': '2024-05-06T21:03:09Z', 'content': 'A new tweet says there is a reference to an unreleased “Apple Pencil Pro” in the source code for Apple’s homepage in Japan. While at least one publication has confirmed the existence of the code, App… [+1098 chars]'}, {'source': {'id': 'marca', 'name': 'Marca'}, 'author': 'marca.com', 'title': 'What time is the Apple Event on Tuesday and where can you watch it?', 'description': 'Apple are holding their latest &apos;Apple Event&apos; on Tuesday, May 7, where the American technology giant will showcase all the updates to its hardware, generating great antici', 'url': 'https://www.marca.com/en/technology/2024/05/06/66392f21ca47418c598b45d8.html', 'urlToImage': 'https://phantom-marca.unidadeditorial.es/0f7dbc8354cbc2224023f2d56fb37fb4/crop/8x0/2044x1358/resize/1200/f/webp/assets/multimedia/imagenes/2024/05/06/17150239114885.png', 'publishedAt': '2024-05-06T21:01:24Z', 'content': \"Apple are holding their latest 'Apple Event' on Tuesday, May 7, where the American technology giant will showcase all the updates to its hardware, generating great anticipation among lovers of high-t… [+1428 chars]\"}, {'source': {'id': None, 'name': 'Android Police'}, 'author': 'Rajesh Pandey', 'title': '5 tweaks to improve Spotify on Android', 'description': 'Use Spotify to the fullest with these simple features', 'url': 'https://www.androidpolice.com/5-spotify-for-android-settings-change/', 'urlToImage': 'https://static1.anpoimages.com/wordpress/wp-content/uploads/2023/09/spotify-1-2023-ap-hero.jpg', 'publishedAt': '2024-05-06T21:00:12Z', 'content': \"Spotify is the world's most popular music streaming service for a reason. This is despite its library not being as exhaustive as YouTube Music and missing out on a lossless tier like Apple Music. But… [+4651 chars]\"}, {'source': {'id': None, 'name': 'GeekTyrant'}, 'author': 'Joey Paur', 'title': 'Apple Releases STAR WARS Themed iPhone 15 \"Precision Finding\" Commercial', 'description': 'Apple and Lucasfilm have collaborated on a new Star Wars-themed commercial promoting the iPhone 15 “Precision Finding for Find My Friends” feature.The ad was directed by Kim Gehrig and it follows a Mandalorian cosplayer, played by real-life fan Owen, “as he j…', 'url': 'https://geektyrant.com/news/apple-releases-star-wars-themed-iphone-15-precision-finding-commercial', 'urlToImage': 'http://static1.squarespace.com/static/51b3dc8ee4b051b96ceb10de/51ce6099e4b0d911b4489b79/663533f333a91e74a8bc8eab/1715029200779/Screenshot+2024-05-03+at+12.08.11%E2%80%AFPM.jpg?format=1500w', 'publishedAt': '2024-05-06T21:00:00Z', 'content': 'Apple and Lucasfilm have collaborated on a new Star Wars-themed commercial promoting the iPhone 15 Precision Finding for Find My Friends feature.\\r\\nThe ad was directed by Kim Gehrig and it follows a M… [+847 chars]'}, {'source': {'id': None, 'name': 'IndieWire'}, 'author': 'Christian Zilko', 'title': 'Years of New England Patriots Drama Finally Found Catharsis at a Tom Brady Netflix Roast', 'description': \"Netflix's roast of Tom Brady featured the obligatory assortment of off-color jokes, but onstage reunions between Brady, Bill Belichick, and Robert Kraft felt like a coda to years of dynasty relitigation.\", 'url': 'https://www.indiewire.com/features/commentary/tom-brady-bill-belichick-robert-kraft-reunite-netflix-roast-1235000833/', 'urlToImage': 'https://www.indiewire.com/wp-content/uploads/2024/05/GettyImages-2151653834.jpg?w=650', 'publishedAt': '2024-05-06T21:00:00Z', 'content': 'If there’s any truth to the old adage that history happens first as tragedy and then as farce, it was fitting that years of media sniping and public relitigation of the New England Patriots’ six Supe… [+9933 chars]'}, {'source': {'id': None, 'name': 'MacRumors'}, 'author': 'Tim Hardwick', 'title': 'iPhone 16 Models Rumored to Come in These Colors', 'description': 'Apple will unveil its new iPhone 16 lineup in a range of new colors later this year in the fall. Here are all the rumored colors so far for the four models: \\u200ciPhone 16\\u200c, \\u200ciPhone 16\\u200c Plus, iPhone 16 Pro, and \\u200ciPhone 16 Pro\\u200c Max.\\n\\n\\n\\n\\n\\n\\n\\niPhone 16 and iPhone 16 …', 'url': 'https://www.macrumors.com/2024/05/06/all-the-rumored-iphone-16-colors/', 'urlToImage': 'https://images.macrumors.com/t/ELATlCHNQAuJsQdzmAXou9Z1QGA=/2500x/article-new/2024/02/iPhone-16-Camera-Lozenge-2.jpg', 'publishedAt': '2024-05-06T21:00:00Z', 'content': 'Apple will unveil its new iPhone 16 lineup in a range of new colors later this year in the fall. Here are all the rumored colors so far for the four models: \\u200ciPhone 16\\u200c, \\u200ciPhone 16\\u200c Plus, iPhone 16 P… [+5017 chars]'}, {'source': {'id': None, 'name': 'Pausaparafeminices.com'}, 'author': 'Bruna Tavares', 'title': 'Ports Shell out Because of the Cellular phone Costs', 'description': 'Blogs Do all Cellular phone Sites Enable it to be Payments Of this type? Best Casinos One Undertake Boku Cellular Payments Play the Better Shell out Because of the Cellular Slots Tips Appreciate Mobile Fee Gambling enterprises How can i Put In order to A wage…', 'url': 'https://www.pausaparafeminices.com/ppf/ports-shell-out-because-of-the-cellular-phone-costs/', 'urlToImage': None, 'publishedAt': '2024-05-06T20:58:32Z', 'content': 'This really is both an area of matter to have security while the hackers could potentially use your credit facts due to their individual nefarious closes whenever they had your hands on him or her. T… [+6105 chars]'}, {'source': {'id': None, 'name': 'New York Post'}, 'author': 'Jack Morphet, Chris Nesi', 'title': 'Who is Manolo De Los Santos? Leader of Hamas-cheering radical NYC group has ties to Cuba', 'description': 'The leader of a radical activist group who urged Columbia rioters to channel the fiery Black Lives Matter riots of 2020\\xa0in their civil disobedience is a career agitator who spent \"years\" in the socialist haven of Cuba before returning to the US to wreak havoc…', 'url': 'https://nypost.com/2024/05/06/us-news/who-is-manolo-de-los-santos-leader-of-hamas-cheering-radical-nyc-group-has-ties-to-cuba/', 'urlToImage': 'https://nypost.com/wp-content/uploads/sites/2/2024/05/81336027.jpg?quality=75&strip=all&w=1024', 'publishedAt': '2024-05-06T20:56:56Z', 'content': 'The head of a radical activist group who urged anti-Israel protesters at Columbia University to channel the deadly Black Lives Matter riots of 2020 is a career agitator who spent years in the sociali… [+4753 chars]'}, {'source': {'id': 'breitbart-news', 'name': 'Breitbart News'}, 'author': 'Thomas D. Williams, Ph.D., Thomas D. Williams, Ph.D.', 'title': 'Catholic League: Pro-Hamas Protesters Are Like ‘Cowardly’ Ku Klux Klan', 'description': 'Catholic League President Bill Donohue ridiculed the “cowardly” pro-Hamas demonstrators for their spineless approach to revolutionary protest.\\nThe post Catholic League: Pro-Hamas Protesters Are Like ‘Cowardly’ Ku Klux Klan appeared first on Breitbart.', 'url': 'https://www.breitbart.com/social-justice/2024/05/06/catholic-league-pro-hamas-protesters-are-like-cowardly-ku-klux-klan/', 'urlToImage': 'https://media.breitbart.com/media/2024/04/anti-Israel-demonstration-Columbia-University-640x335.jpg', 'publishedAt': '2024-05-06T20:55:56Z', 'content': 'Catholic League President Bill Donohue ridiculed the cowardly pro-Hamas demonstrators on Americas university campuses for their spineless approach to revolutionary protest.\\r\\nInstead of willingness to… [+2147 chars]'}, {'source': {'id': None, 'name': 'Slashdot.org'}, 'author': 'feedfeeder', 'title': 'Apple is losing market share to Android tablets ahead of new iPads - 9to5Google', 'description': 'Apple is losing market share to Android tablets ahead of new iPads9to5Google Tablet Shipments Show Signs of Recovery in Q1 2024, According to IDCIDC Apple is slowly losing tablet ground to Samsung, Q1 2024 shipment figures showPhoneArena Canalys Newsroom - Gl…', 'url': 'https://slashdot.org/firehose.pl?op=view&amp;id=173798576', 'urlToImage': None, 'publishedAt': '2024-05-06T20:52:50Z', 'content': 'Sign up for the Slashdot newsletter! OR check out the new Slashdot job board to browse remote jobs or jobs in your areaDo you develop on GitHub? You can keep using GitHub but automatically sync your … [+268 chars]'}]}\n"
     ]
    }
   ],
   "source": [
    "api_key = load_api_key('api_key.txt')\n",
    "news_articles = fetch_news(api_key, 'Apple', '2024-04-07', '2024-05-06')\n",
    "print(news_articles)"
   ]
  },
  {
   "cell_type": "code",
   "execution_count": 40,
   "id": "88428c06-7660-49ea-b09f-3a6a2080a5ac",
   "metadata": {},
   "outputs": [],
   "source": [
    "titles = []\n",
    "\n",
    "for article in news_items['articles']:\n",
    "    if article['title'] != \"[Removed]\":\n",
    "        titles.append(article['title'])\n",
    "        # print(article['title'])"
   ]
  },
  {
   "cell_type": "code",
   "execution_count": 41,
   "id": "a4a06a0c-81d7-42cd-88fc-25ea4c479011",
   "metadata": {},
   "outputs": [
    {
     "data": {
      "text/plain": [
       "[\"Apple: Even A 'Historic' Buyback Program Isn't Going To Move The Needle\",\n",
       " 'Wall Street Lunch: New iPads Are Here!',\n",
       " 'Apple unveils new iPad Air, iPad Pro, AI-focused M4 chip',\n",
       " 'Apple: The Real Reasons Warren Buffett Is Selling',\n",
       " 'Apple’s $110B buyback is larger than the market caps of 418 S&P 500 stocks',\n",
       " 'Latest Apple event is on tap, along with AI chip rumors',\n",
       " 'Apple: Time For A Rebrand',\n",
       " \"Apple: Don't Celebrate Just Yet\",\n",
       " 'Apple retains top spot in global tablet market in Q1 2024',\n",
       " 'Apple, Samsung hog top 10 of best-selling smartphones during Q1 2024',\n",
       " 'Apple: Those Who Harp On iPhone Sales Miss The Point',\n",
       " 'Apple: Stay Away During This AI Make-Or-Break Moment',\n",
       " 'Wall Street Brunch: Disney Earnings, Apple Event Ahead',\n",
       " \"What's next for Apple? SA analysts express skepticism about impact of massive buyback\",\n",
       " 'Netflix and Spotify remain teen favorites but Prime is catching up - analyst',\n",
       " 'Apple results, guidance has implications for supply chain: analysts',\n",
       " \"Apple: Dividend Raise Won't Be Enough (Technical Analysis)\",\n",
       " \"Apple's Buyback News May Be Late For Warren Buffet - There's Still Some Risk\",\n",
       " 'Buffett says Apple likely to be largest investment at 2024-end, despite Q1 stake cut (update)',\n",
       " \"Big Tech goes big on AI: Here's what Apple, Microsoft and others said during earnings\",\n",
       " 'Eyes On Apple, Uber, Disney, Rivian And Coupang',\n",
       " 'Apple Q2: Service Business Continues To Shine',\n",
       " 'Apple: Growth Issues Masked By Buybacks And Dividends',\n",
       " \"We're Not As Excited About Apple's Earnings As The Market\",\n",
       " 'Apple stock: 10 ETFs with large weightings of the iPhone maker',\n",
       " 'Biggest stock movers today: WOW, AAPL, SQ, and more',\n",
       " 'Apple’s historic buyback ripples through the market',\n",
       " \"'The worst is behind:' Apple's iPhone demand may be improving with AI hopes near\",\n",
       " 'Apple: Expect Smart Money To Sell The $110 Billion Buyback Euphoria',\n",
       " 'Apple: Accelerating Capital Returns (Rating Upgrade)',\n",
       " 'Apple discounts MLS Season Pass to $69 for the rest of the season',\n",
       " 'It doesn’t matter how many Vision Pro headsets Apple sells',\n",
       " \"Apple is launching new iPads May 7: Here's what to expect from the 'Let Loose' event\",\n",
       " 'The Apple Watch Series 9 is back on sale for $299',\n",
       " 'Apple is making progress cleaning up its dirty supply chain',\n",
       " 'Apple Store employees in New Jersey are trying to unionize',\n",
       " 'Welcome to the Age of Technofeudalism',\n",
       " 'Qualcomm strong-arms its way into Windows\\xa0laptops\\xa0this summer',\n",
       " \"How to watch Apple's iPad launch event on Tuesday\",\n",
       " \"Delta Is an iOS Game Boy Emulator That (Likely) Won't Get Taken Down\",\n",
       " 'Fender Tone Master Pro Review: The Classiest Modeling Amp',\n",
       " 'How To Use Apple Apps on Windows',\n",
       " \"The second-gen Apple Pencil falls back to $79 ahead of next week's iPad event\",\n",
       " 'Dropbox CEO Drew Houston wants you to embrace AI and remote work',\n",
       " 'How to stop being reminded of memories you don’t want to be reminded of',\n",
       " 'This Qi2 3-in-1 charger has the best price we’ve seen from any brand',\n",
       " \"Apple TV's Dark Matter series takes on one of Blake Crouch's best books\",\n",
       " 'Roku Breach Hits 567,000 Users',\n",
       " 'Tesla is settling with the family of the Apple engineer who died in an Autopilot crash',\n",
       " 'The ‘Hollywood Con Queen’ gets a new documentary from Apple TV Plus',\n",
       " 'Apple Gives Up on Labeling Cyberattacks as ‘State-Sponsored’',\n",
       " 'Apple Blocks Several U.S.-Based Messaging Apps in China',\n",
       " 'Everyone Already Forgot About the Apple Vision Pro',\n",
       " \"It's No Surprise That Samsung Phones Are Outselling iPhones Globally Right Now\",\n",
       " \"ChatGPT Could Power the iPhone's AI Chatbot: Report\",\n",
       " 'Apple’s Safari Browser May Let You Erase Ads Completely With New AI Makeover',\n",
       " 'How to Watch Apple’s Big iPad Event',\n",
       " \"Rumors of iPhone FineWoven's Death May Have Been Greatly Exaggerated\",\n",
       " 'Apple sparks Palestinian flag emoji controversy',\n",
       " 'How to change or cancel your music streaming services',\n",
       " \"Apple to Reveal New iPads During Its 'Let Loose' Event on May 7\",\n",
       " 'The Supercut app brings good Netflix to the Vision Pro',\n",
       " 'This week’s trailers offered twists on familiar genres',\n",
       " 'Apple TV+ Reveals a First Look at Dark Matter, Your Next Sci-Fi Mystery Obsession',\n",
       " 'How to Force Restart an iPad',\n",
       " \"Apple Watch Series 9 Now Available on Apple's Refurbished Store in Select Countries\",\n",
       " 'Apple Discounts MLS Season Pass',\n",
       " 'The Morning After: Drones that can charge on power lines',\n",
       " 'Apple Celebrating Earth Day and International Dance Day With New Apple Watch Activity Challenges',\n",
       " 'Apple Working to Secure Streaming Rights to New FIFA Tournament',\n",
       " 'Apple Event Rumors: iPad Pro With M4 Chip and New Apple Pencil With Haptic Feedback',\n",
       " 'When to Expect a New Apple TV to Launch',\n",
       " 'Idris Elba Says Sonic 3 Will Be For the Real Diehards',\n",
       " 'Everything You Need to Know About Game Emulators on iPhone',\n",
       " \"Apple Watch Ultra 2 Now Available on Apple's Refurbished Store in U.S.\",\n",
       " 'Apple Seeds Second Beta of watchOS 10.5 to Developers',\n",
       " 'Apple Seeds Third Beta of watchOS 10.5 to Developers',\n",
       " 'Apple Seeds Fourth Beta of watchOS 10.5 to Developers',\n",
       " \"Apple Announces 'Let Loose' Event on May 7\",\n",
       " 'Check Out This Apple Watch iPad Demo Unit From 2014',\n",
       " 'Amazon Takes $60 Off 2nd Gen Apple Watch SE, Starting at Just $189',\n",
       " 'Refurbished Apple Watch Ultra 2 Begins Rolling Out Outside U.S.',\n",
       " \"European Regulators Will Soon Approve Apple's Plan to Open Up Tap-to-Pay to Banks and Payment Providers\",\n",
       " 'Apple Releases visionOS 1.1.2 With Bug Fixes',\n",
       " 'Apple Faces New Cybersecurity Law in UK',\n",
       " 'Apple Considers Expanding Manufacturing Base to Indonesia',\n",
       " 'Apple Arcade Adding These New Games in May',\n",
       " 'FineWoven Accessories May Get One Last Outing Before Apple Pulls Plug',\n",
       " 'Apple Seeds Second Beta of macOS Sonoma 14.5 to Developers',\n",
       " \"Apple is expected to launch new iPads and accessories during a May 7 event — here's what to know\",\n",
       " 'Apple Reportedly Stops Production of FineWoven Accessories',\n",
       " 'Apple Asks Customers for Vision Pro Feedback',\n",
       " 'Save $300 on the 15-Inch M2 MacBook Air With Apple Music, Apple TV Plus and More Included - CNET',\n",
       " \"Apple Cuts Vision Pro Shipments As Demand Falls 'Sharply Beyond Expectations'\",\n",
       " 'Apple Sends Congratulatory Letters to 2024 Swift Student Challenge Winners',\n",
       " \"Erasable Logo on Apple's Homepage Hints at New Apple Pencil Coming Tomorrow\",\n",
       " 'Apple Seeds Second Beta of tvOS 17.5 to Developers',\n",
       " 'Apple Seeds Fourth Beta of tvOS 17.5 to Developers',\n",
       " 'Google Paid Apple $20 Billion in 2022 to Be Default Safari Search Engine',\n",
       " 'Translation Tech Is Amazing, Except When It’s Not',\n",
       " 'Apple issues mercenary spyware threat alert',\n",
       " 'Apple Store Employees in New Jersey File to Unionize',\n",
       " 'Apple believes that AI is the future',\n",
       " 'Apple to Allow Used Parts for Repairs, Starting With Select iPhones',\n",
       " 'Apple Seeds Second Beta of visionOS 1.2 to Developers',\n",
       " 'Apple Pulls WhatsApp, Telegram, Signal, and Threads From App Store in China Following Order',\n",
       " 'AirPower Prototype Seen Charging Apple Watch for First Time',\n",
       " \"Amazon's New Apple Sale Has Best-Ever Prices on AirPods Pro, Studio Display, Apple Pencil, and More\",\n",
       " 'Best Apple Deals of the Week: Get Low Prices on Anker and Eufy Accessories, AirPods, Apple Pencil, and More',\n",
       " 'LG TVs Gain Support for Dolby Atmos With Apple Music',\n",
       " 'Samsung shipped more phones than anyone else in Q1 2024',\n",
       " 'Apple Watch Series 9 Drops to New Low Price of $295 on Amazon',\n",
       " '¿Un Apple Pencil Pro a la vista? Esta sería la gran novedad del evento de Apple',\n",
       " 'Apple Event on May 7: iPads Likely - CNET',\n",
       " 'How to Clear Your Browser Cache on MacBooks',\n",
       " 'Apple discounts MLS Season Pass to $69 for the rest of the season',\n",
       " 'It doesn’t matter how many Vision Pro headsets Apple sells',\n",
       " \"Apple is launching new iPads May 7: Here's what to expect from the 'Let Loose' event\",\n",
       " 'The Apple Watch Series 9 is back on sale for $299',\n",
       " 'Apple is making progress cleaning up its dirty supply chain',\n",
       " 'Apple Store employees in New Jersey are trying to unionize',\n",
       " 'Welcome to the Age of Technofeudalism',\n",
       " 'Qualcomm strong-arms its way into Windows\\xa0laptops\\xa0this summer',\n",
       " \"How to watch Apple's iPad launch event on Tuesday\",\n",
       " \"Delta Is an iOS Game Boy Emulator That (Likely) Won't Get Taken Down\",\n",
       " 'Fender Tone Master Pro Review: The Classiest Modeling Amp',\n",
       " 'How To Use Apple Apps on Windows',\n",
       " \"The second-gen Apple Pencil falls back to $79 ahead of next week's iPad event\",\n",
       " 'Dropbox CEO Drew Houston wants you to embrace AI and remote work',\n",
       " 'How to stop being reminded of memories you don’t want to be reminded of',\n",
       " 'This Qi2 3-in-1 charger has the best price we’ve seen from any brand',\n",
       " \"Apple TV's Dark Matter series takes on one of Blake Crouch's best books\",\n",
       " 'Roku Breach Hits 567,000 Users',\n",
       " 'Tesla is settling with the family of the Apple engineer who died in an Autopilot crash',\n",
       " 'The ‘Hollywood Con Queen’ gets a new documentary from Apple TV Plus',\n",
       " 'Apple Gives Up on Labeling Cyberattacks as ‘State-Sponsored’',\n",
       " 'Apple Blocks Several U.S.-Based Messaging Apps in China',\n",
       " 'Everyone Already Forgot About the Apple Vision Pro',\n",
       " \"It's No Surprise That Samsung Phones Are Outselling iPhones Globally Right Now\",\n",
       " \"ChatGPT Could Power the iPhone's AI Chatbot: Report\",\n",
       " 'Apple’s Safari Browser May Let You Erase Ads Completely With New AI Makeover',\n",
       " 'How to Watch Apple’s Big iPad Event',\n",
       " \"Rumors of iPhone FineWoven's Death May Have Been Greatly Exaggerated\",\n",
       " 'Apple sparks Palestinian flag emoji controversy',\n",
       " 'How to change or cancel your music streaming services',\n",
       " \"Apple to Reveal New iPads During Its 'Let Loose' Event on May 7\",\n",
       " 'The Supercut app brings good Netflix to the Vision Pro',\n",
       " 'This week’s trailers offered twists on familiar genres',\n",
       " 'Apple TV+ Reveals a First Look at Dark Matter, Your Next Sci-Fi Mystery Obsession',\n",
       " 'How to Force Restart an iPad',\n",
       " \"Apple Watch Series 9 Now Available on Apple's Refurbished Store in Select Countries\",\n",
       " 'Apple Discounts MLS Season Pass',\n",
       " 'The Morning After: Drones that can charge on power lines',\n",
       " 'Apple Celebrating Earth Day and International Dance Day With New Apple Watch Activity Challenges',\n",
       " 'Apple Working to Secure Streaming Rights to New FIFA Tournament',\n",
       " 'Apple Event Rumors: iPad Pro With M4 Chip and New Apple Pencil With Haptic Feedback',\n",
       " 'When to Expect a New Apple TV to Launch',\n",
       " 'Idris Elba Says Sonic 3 Will Be For the Real Diehards',\n",
       " 'Everything You Need to Know About Game Emulators on iPhone',\n",
       " \"Apple Watch Ultra 2 Now Available on Apple's Refurbished Store in U.S.\",\n",
       " 'Apple Seeds Second Beta of watchOS 10.5 to Developers',\n",
       " 'Apple Seeds Third Beta of watchOS 10.5 to Developers',\n",
       " 'Apple Seeds Fourth Beta of watchOS 10.5 to Developers',\n",
       " \"Apple Announces 'Let Loose' Event on May 7\",\n",
       " 'Check Out This Apple Watch iPad Demo Unit From 2014',\n",
       " 'Amazon Takes $60 Off 2nd Gen Apple Watch SE, Starting at Just $189',\n",
       " 'Refurbished Apple Watch Ultra 2 Begins Rolling Out Outside U.S.',\n",
       " \"European Regulators Will Soon Approve Apple's Plan to Open Up Tap-to-Pay to Banks and Payment Providers\",\n",
       " 'Apple Releases visionOS 1.1.2 With Bug Fixes',\n",
       " 'Apple Faces New Cybersecurity Law in UK',\n",
       " 'Apple Considers Expanding Manufacturing Base to Indonesia',\n",
       " 'Apple Arcade Adding These New Games in May',\n",
       " 'FineWoven Accessories May Get One Last Outing Before Apple Pulls Plug',\n",
       " 'Apple Seeds Second Beta of macOS Sonoma 14.5 to Developers',\n",
       " \"Apple is expected to launch new iPads and accessories during a May 7 event — here's what to know\",\n",
       " 'Apple Reportedly Stops Production of FineWoven Accessories',\n",
       " 'Apple Asks Customers for Vision Pro Feedback',\n",
       " 'Save $300 on the 15-Inch M2 MacBook Air With Apple Music, Apple TV Plus and More Included - CNET',\n",
       " \"Apple Cuts Vision Pro Shipments As Demand Falls 'Sharply Beyond Expectations'\",\n",
       " 'Apple Sends Congratulatory Letters to 2024 Swift Student Challenge Winners',\n",
       " \"Erasable Logo on Apple's Homepage Hints at New Apple Pencil Coming Tomorrow\",\n",
       " 'Apple Seeds Second Beta of tvOS 17.5 to Developers',\n",
       " 'Apple Seeds Fourth Beta of tvOS 17.5 to Developers',\n",
       " 'Google Paid Apple $20 Billion in 2022 to Be Default Safari Search Engine',\n",
       " 'Translation Tech Is Amazing, Except When It’s Not',\n",
       " 'Apple issues mercenary spyware threat alert',\n",
       " 'Apple Store Employees in New Jersey File to Unionize',\n",
       " 'Apple believes that AI is the future',\n",
       " 'Apple to Allow Used Parts for Repairs, Starting With Select iPhones',\n",
       " 'Apple Seeds Second Beta of visionOS 1.2 to Developers',\n",
       " 'Apple Pulls WhatsApp, Telegram, Signal, and Threads From App Store in China Following Order',\n",
       " 'AirPower Prototype Seen Charging Apple Watch for First Time',\n",
       " \"Amazon's New Apple Sale Has Best-Ever Prices on AirPods Pro, Studio Display, Apple Pencil, and More\",\n",
       " 'Best Apple Deals of the Week: Get Low Prices on Anker and Eufy Accessories, AirPods, Apple Pencil, and More',\n",
       " 'LG TVs Gain Support for Dolby Atmos With Apple Music',\n",
       " 'Samsung shipped more phones than anyone else in Q1 2024',\n",
       " 'Apple Watch Series 9 Drops to New Low Price of $295 on Amazon',\n",
       " '¿Un Apple Pencil Pro a la vista? Esta sería la gran novedad del evento de Apple',\n",
       " 'Apple Event on May 7: iPads Likely - CNET',\n",
       " 'How to Clear Your Browser Cache on MacBooks']"
      ]
     },
     "execution_count": 41,
     "metadata": {},
     "output_type": "execute_result"
    }
   ],
   "source": [
    "titles"
   ]
  },
  {
   "cell_type": "code",
   "execution_count": 42,
   "id": "ef41b65c-90b9-424d-9c77-a4b952dd2a08",
   "metadata": {},
   "outputs": [
    {
     "name": "stdout",
     "output_type": "stream",
     "text": [
      "                                                title publishedAt\n",
      "0   Apple discounts MLS Season Pass to $69 for the...  2024-05-02\n",
      "1   It doesn’t matter how many Vision Pro headsets...  2024-04-26\n",
      "2   Apple is launching new iPads May 7: Here's wha...  2024-04-25\n",
      "3   The Apple Watch Series 9 is back on sale for $299  2024-04-29\n",
      "4   Apple is making progress cleaning up its dirty...  2024-04-18\n",
      "..                                                ...         ...\n",
      "80  Samsung shipped more phones than anyone else i...  2024-04-16\n",
      "81  Apple Watch Series 9 Drops to New Low Price of...  2024-04-10\n",
      "82  ¿Un Apple Pencil Pro a la vista? Esta sería la...  2024-05-06\n",
      "83          Apple Event on May 7: iPads Likely - CNET  2024-04-23\n",
      "84        How to Clear Your Browser Cache on MacBooks  2024-04-09\n",
      "\n",
      "[85 rows x 2 columns]\n"
     ]
    }
   ],
   "source": [
    "data = []\n",
    "for article in news_items['articles']:\n",
    "    if article['title'] != \"[Removed]\":\n",
    "        date_only = article['publishedAt'].split('T')[0]\n",
    "        data.append({'title': article['title'], 'publishedAt': date_only})\n",
    "\n",
    "df = pd.DataFrame(data, columns=['title', 'publishedAt'])"
   ]
  },
  {
   "cell_type": "code",
   "execution_count": 49,
   "id": "3d16153f-8a84-4460-b9ff-3728e43d6224",
   "metadata": {},
   "outputs": [
    {
     "data": {
      "text/html": [
       "<div>\n",
       "<style scoped>\n",
       "    .dataframe tbody tr th:only-of-type {\n",
       "        vertical-align: middle;\n",
       "    }\n",
       "\n",
       "    .dataframe tbody tr th {\n",
       "        vertical-align: top;\n",
       "    }\n",
       "\n",
       "    .dataframe thead th {\n",
       "        text-align: right;\n",
       "    }\n",
       "</style>\n",
       "<table border=\"1\" class=\"dataframe\">\n",
       "  <thead>\n",
       "    <tr style=\"text-align: right;\">\n",
       "      <th></th>\n",
       "      <th>title</th>\n",
       "      <th>publishedAt</th>\n",
       "    </tr>\n",
       "  </thead>\n",
       "  <tbody>\n",
       "    <tr>\n",
       "      <th>0</th>\n",
       "      <td>Apple discounts MLS Season Pass to $69 for the...</td>\n",
       "      <td>2024-05-02</td>\n",
       "    </tr>\n",
       "    <tr>\n",
       "      <th>1</th>\n",
       "      <td>It doesn’t matter how many Vision Pro headsets...</td>\n",
       "      <td>2024-04-26</td>\n",
       "    </tr>\n",
       "    <tr>\n",
       "      <th>2</th>\n",
       "      <td>Apple is launching new iPads May 7: Here's wha...</td>\n",
       "      <td>2024-04-25</td>\n",
       "    </tr>\n",
       "    <tr>\n",
       "      <th>3</th>\n",
       "      <td>The Apple Watch Series 9 is back on sale for $299</td>\n",
       "      <td>2024-04-29</td>\n",
       "    </tr>\n",
       "    <tr>\n",
       "      <th>4</th>\n",
       "      <td>Apple is making progress cleaning up its dirty...</td>\n",
       "      <td>2024-04-18</td>\n",
       "    </tr>\n",
       "    <tr>\n",
       "      <th>...</th>\n",
       "      <td>...</td>\n",
       "      <td>...</td>\n",
       "    </tr>\n",
       "    <tr>\n",
       "      <th>80</th>\n",
       "      <td>Samsung shipped more phones than anyone else i...</td>\n",
       "      <td>2024-04-16</td>\n",
       "    </tr>\n",
       "    <tr>\n",
       "      <th>81</th>\n",
       "      <td>Apple Watch Series 9 Drops to New Low Price of...</td>\n",
       "      <td>2024-04-10</td>\n",
       "    </tr>\n",
       "    <tr>\n",
       "      <th>82</th>\n",
       "      <td>¿Un Apple Pencil Pro a la vista? Esta sería la...</td>\n",
       "      <td>2024-05-06</td>\n",
       "    </tr>\n",
       "    <tr>\n",
       "      <th>83</th>\n",
       "      <td>Apple Event on May 7: iPads Likely - CNET</td>\n",
       "      <td>2024-04-23</td>\n",
       "    </tr>\n",
       "    <tr>\n",
       "      <th>84</th>\n",
       "      <td>How to Clear Your Browser Cache on MacBooks</td>\n",
       "      <td>2024-04-09</td>\n",
       "    </tr>\n",
       "  </tbody>\n",
       "</table>\n",
       "<p>85 rows × 2 columns</p>\n",
       "</div>"
      ],
      "text/plain": [
       "                                                title publishedAt\n",
       "0   Apple discounts MLS Season Pass to $69 for the...  2024-05-02\n",
       "1   It doesn’t matter how many Vision Pro headsets...  2024-04-26\n",
       "2   Apple is launching new iPads May 7: Here's wha...  2024-04-25\n",
       "3   The Apple Watch Series 9 is back on sale for $299  2024-04-29\n",
       "4   Apple is making progress cleaning up its dirty...  2024-04-18\n",
       "..                                                ...         ...\n",
       "80  Samsung shipped more phones than anyone else i...  2024-04-16\n",
       "81  Apple Watch Series 9 Drops to New Low Price of...  2024-04-10\n",
       "82  ¿Un Apple Pencil Pro a la vista? Esta sería la...  2024-05-06\n",
       "83          Apple Event on May 7: iPads Likely - CNET  2024-04-23\n",
       "84        How to Clear Your Browser Cache on MacBooks  2024-04-09\n",
       "\n",
       "[85 rows x 2 columns]"
      ]
     },
     "execution_count": 49,
     "metadata": {},
     "output_type": "execute_result"
    }
   ],
   "source": [
    "df"
   ]
  },
  {
   "cell_type": "markdown",
   "id": "e6ab3ac5-14e3-4313-9c43-dc065f46d242",
   "metadata": {},
   "source": [
    "# Sentiment Analysis"
   ]
  },
  {
   "cell_type": "code",
   "execution_count": 50,
   "id": "6aa451d9-940f-4b8c-bcaf-724e8e455890",
   "metadata": {},
   "outputs": [],
   "source": [
    "import pandas as pd\n",
    "from vaderSentiment.vaderSentiment import SentimentIntensityAnalyzer"
   ]
  },
  {
   "cell_type": "code",
   "execution_count": 51,
   "id": "18536ff4-a929-4762-a39b-befeda49d036",
   "metadata": {},
   "outputs": [],
   "source": [
    "# Initialize VADER\n",
    "analyzer = SentimentIntensityAnalyzer()\n",
    "\n",
    "# Function to get sentiments\n",
    "def get_sentiment(text):\n",
    "    return analyzer.polarity_scores(text)\n",
    "\n",
    "# Apply sentiment analysis\n",
    "df['sentiments'] = df['title'].apply(get_sentiment)\n",
    "df = pd.concat([df.drop(['sentiments'], axis=1), df['sentiments'].apply(pd.Series)], axis=1)"
   ]
  },
  {
   "cell_type": "code",
   "execution_count": 52,
   "id": "6db90e5d-eec3-41d0-898f-c74296d5213a",
   "metadata": {},
   "outputs": [
    {
     "data": {
      "text/html": [
       "<div>\n",
       "<style scoped>\n",
       "    .dataframe tbody tr th:only-of-type {\n",
       "        vertical-align: middle;\n",
       "    }\n",
       "\n",
       "    .dataframe tbody tr th {\n",
       "        vertical-align: top;\n",
       "    }\n",
       "\n",
       "    .dataframe thead th {\n",
       "        text-align: right;\n",
       "    }\n",
       "</style>\n",
       "<table border=\"1\" class=\"dataframe\">\n",
       "  <thead>\n",
       "    <tr style=\"text-align: right;\">\n",
       "      <th></th>\n",
       "      <th>title</th>\n",
       "      <th>publishedAt</th>\n",
       "      <th>neg</th>\n",
       "      <th>neu</th>\n",
       "      <th>pos</th>\n",
       "      <th>compound</th>\n",
       "    </tr>\n",
       "  </thead>\n",
       "  <tbody>\n",
       "    <tr>\n",
       "      <th>0</th>\n",
       "      <td>Apple discounts MLS Season Pass to $69 for the...</td>\n",
       "      <td>2024-05-02</td>\n",
       "      <td>0.000</td>\n",
       "      <td>1.000</td>\n",
       "      <td>0.000</td>\n",
       "      <td>0.0000</td>\n",
       "    </tr>\n",
       "    <tr>\n",
       "      <th>1</th>\n",
       "      <td>It doesn’t matter how many Vision Pro headsets...</td>\n",
       "      <td>2024-04-26</td>\n",
       "      <td>0.000</td>\n",
       "      <td>0.721</td>\n",
       "      <td>0.279</td>\n",
       "      <td>0.2732</td>\n",
       "    </tr>\n",
       "    <tr>\n",
       "      <th>2</th>\n",
       "      <td>Apple is launching new iPads May 7: Here's wha...</td>\n",
       "      <td>2024-04-25</td>\n",
       "      <td>0.133</td>\n",
       "      <td>0.867</td>\n",
       "      <td>0.000</td>\n",
       "      <td>-0.3182</td>\n",
       "    </tr>\n",
       "    <tr>\n",
       "      <th>3</th>\n",
       "      <td>The Apple Watch Series 9 is back on sale for $299</td>\n",
       "      <td>2024-04-29</td>\n",
       "      <td>0.000</td>\n",
       "      <td>1.000</td>\n",
       "      <td>0.000</td>\n",
       "      <td>0.0000</td>\n",
       "    </tr>\n",
       "    <tr>\n",
       "      <th>4</th>\n",
       "      <td>Apple is making progress cleaning up its dirty...</td>\n",
       "      <td>2024-04-18</td>\n",
       "      <td>0.212</td>\n",
       "      <td>0.584</td>\n",
       "      <td>0.204</td>\n",
       "      <td>-0.0258</td>\n",
       "    </tr>\n",
       "    <tr>\n",
       "      <th>...</th>\n",
       "      <td>...</td>\n",
       "      <td>...</td>\n",
       "      <td>...</td>\n",
       "      <td>...</td>\n",
       "      <td>...</td>\n",
       "      <td>...</td>\n",
       "    </tr>\n",
       "    <tr>\n",
       "      <th>80</th>\n",
       "      <td>Samsung shipped more phones than anyone else i...</td>\n",
       "      <td>2024-04-16</td>\n",
       "      <td>0.000</td>\n",
       "      <td>1.000</td>\n",
       "      <td>0.000</td>\n",
       "      <td>0.0000</td>\n",
       "    </tr>\n",
       "    <tr>\n",
       "      <th>81</th>\n",
       "      <td>Apple Watch Series 9 Drops to New Low Price of...</td>\n",
       "      <td>2024-04-10</td>\n",
       "      <td>0.142</td>\n",
       "      <td>0.743</td>\n",
       "      <td>0.115</td>\n",
       "      <td>-0.1027</td>\n",
       "    </tr>\n",
       "    <tr>\n",
       "      <th>82</th>\n",
       "      <td>¿Un Apple Pencil Pro a la vista? Esta sería la...</td>\n",
       "      <td>2024-05-06</td>\n",
       "      <td>0.000</td>\n",
       "      <td>1.000</td>\n",
       "      <td>0.000</td>\n",
       "      <td>0.0000</td>\n",
       "    </tr>\n",
       "    <tr>\n",
       "      <th>83</th>\n",
       "      <td>Apple Event on May 7: iPads Likely - CNET</td>\n",
       "      <td>2024-04-23</td>\n",
       "      <td>0.000</td>\n",
       "      <td>1.000</td>\n",
       "      <td>0.000</td>\n",
       "      <td>0.0000</td>\n",
       "    </tr>\n",
       "    <tr>\n",
       "      <th>84</th>\n",
       "      <td>How to Clear Your Browser Cache on MacBooks</td>\n",
       "      <td>2024-04-09</td>\n",
       "      <td>0.000</td>\n",
       "      <td>0.729</td>\n",
       "      <td>0.271</td>\n",
       "      <td>0.3818</td>\n",
       "    </tr>\n",
       "  </tbody>\n",
       "</table>\n",
       "<p>85 rows × 6 columns</p>\n",
       "</div>"
      ],
      "text/plain": [
       "                                                title publishedAt    neg  \\\n",
       "0   Apple discounts MLS Season Pass to $69 for the...  2024-05-02  0.000   \n",
       "1   It doesn’t matter how many Vision Pro headsets...  2024-04-26  0.000   \n",
       "2   Apple is launching new iPads May 7: Here's wha...  2024-04-25  0.133   \n",
       "3   The Apple Watch Series 9 is back on sale for $299  2024-04-29  0.000   \n",
       "4   Apple is making progress cleaning up its dirty...  2024-04-18  0.212   \n",
       "..                                                ...         ...    ...   \n",
       "80  Samsung shipped more phones than anyone else i...  2024-04-16  0.000   \n",
       "81  Apple Watch Series 9 Drops to New Low Price of...  2024-04-10  0.142   \n",
       "82  ¿Un Apple Pencil Pro a la vista? Esta sería la...  2024-05-06  0.000   \n",
       "83          Apple Event on May 7: iPads Likely - CNET  2024-04-23  0.000   \n",
       "84        How to Clear Your Browser Cache on MacBooks  2024-04-09  0.000   \n",
       "\n",
       "      neu    pos  compound  \n",
       "0   1.000  0.000    0.0000  \n",
       "1   0.721  0.279    0.2732  \n",
       "2   0.867  0.000   -0.3182  \n",
       "3   1.000  0.000    0.0000  \n",
       "4   0.584  0.204   -0.0258  \n",
       "..    ...    ...       ...  \n",
       "80  1.000  0.000    0.0000  \n",
       "81  0.743  0.115   -0.1027  \n",
       "82  1.000  0.000    0.0000  \n",
       "83  1.000  0.000    0.0000  \n",
       "84  0.729  0.271    0.3818  \n",
       "\n",
       "[85 rows x 6 columns]"
      ]
     },
     "execution_count": 52,
     "metadata": {},
     "output_type": "execute_result"
    }
   ],
   "source": [
    "df"
   ]
  },
  {
   "cell_type": "code",
   "execution_count": 47,
   "id": "ba1e7af3-b606-49c8-ac66-c29231ec49bf",
   "metadata": {},
   "outputs": [
    {
     "name": "stdout",
     "output_type": "stream",
     "text": [
      "          date                                     article titles       pos  \\\n",
      "0   2024-04-07  [Fender Tone Master Pro Review: The Classiest ...  0.000000   \n",
      "1   2024-04-08  [Tesla is settling with the family of the Appl...  0.126667   \n",
      "2   2024-04-09  [Welcome to the Age of Technofeudalism, Apple ...  0.107667   \n",
      "3   2024-04-10  [Apple Store employees in New Jersey are tryin...  0.019167   \n",
      "4   2024-04-11  [Apple TV's Dark Matter series takes on one of...  0.157000   \n",
      "5   2024-04-13  [Roku Breach Hits 567,000 Users, This week’s t...  0.000000   \n",
      "6   2024-04-15  [Dropbox CEO Drew Houston wants you to embrace...  0.173000   \n",
      "7   2024-04-16  [It's No Surprise That Samsung Phones Are Outs...  0.046444   \n",
      "8   2024-04-17  [Delta Is an iOS Game Boy Emulator That (Likel...  0.000000   \n",
      "9   2024-04-18  [Apple is making progress cleaning up its dirt...  0.102000   \n",
      "10  2024-04-19  [Apple Blocks Several U.S.-Based Messaging App...  0.000000   \n",
      "11  2024-04-20  [How to change or cancel your music streaming ...  0.000000   \n",
      "12  2024-04-21  [Apple Reportedly Stops Production of FineWove...  0.000000   \n",
      "13  2024-04-22  [Everyone Already Forgot About the Apple Visio...  0.216500   \n",
      "14  2024-04-23  [Rumors of iPhone FineWoven's Death May Have B...  0.020857   \n",
      "15  2024-04-24  [Qualcomm strong-arms its way into Windows lap...  0.050333   \n",
      "16  2024-04-25  [Apple is launching new iPads May 7: Here's wh...  0.000000   \n",
      "17  2024-04-26  [It doesn’t matter how many Vision Pro headset...  0.204333   \n",
      "18  2024-04-27  [ChatGPT Could Power the iPhone's AI Chatbot: ...  0.000000   \n",
      "19  2024-04-28  [Apple Event Rumors: iPad Pro With M4 Chip and...  0.000000   \n",
      "20  2024-04-29  [The Apple Watch Series 9 is back on sale for ...  0.000000   \n",
      "21  2024-04-30  [The second-gen Apple Pencil falls back to $79...  0.000000   \n",
      "22  2024-05-01  [This Qi2 3-in-1 charger has the best price we...  0.138400   \n",
      "23  2024-05-02  [Apple discounts MLS Season Pass to $69 for th...  0.000000   \n",
      "24  2024-05-03  [Apple Sends Congratulatory Letters to 2024 Sw...  0.325000   \n",
      "25  2024-05-05  [Translation Tech Is Amazing, Except When It’s...  0.352000   \n",
      "26  2024-05-06  [How to watch Apple's iPad launch event on Tue...  0.000000   \n",
      "\n",
      "         neu       neg  compound  \n",
      "0   1.000000  0.000000  0.000000  \n",
      "1   0.770000  0.103333 -0.047867  \n",
      "2   0.892333  0.000000  0.140100  \n",
      "3   0.957167  0.023667 -0.017117  \n",
      "4   0.741200  0.101800  0.052140  \n",
      "5   1.000000  0.000000  0.000000  \n",
      "6   0.827000  0.000000  0.318200  \n",
      "7   0.937778  0.015778  0.064956  \n",
      "8   1.000000  0.000000  0.000000  \n",
      "9   0.792000  0.106000 -0.012900  \n",
      "10  0.964500  0.035500 -0.037717  \n",
      "11  0.800000  0.200000 -0.250000  \n",
      "12  0.789000  0.211000 -0.153100  \n",
      "13  0.783500  0.000000  0.295000  \n",
      "14  0.823571  0.155571 -0.213486  \n",
      "15  0.949667  0.000000  0.164633  \n",
      "16  0.933500  0.066500 -0.159100  \n",
      "17  0.748333  0.047333  0.098967  \n",
      "18  1.000000  0.000000  0.000000  \n",
      "19  1.000000  0.000000  0.000000  \n",
      "20  1.000000  0.000000  0.000000  \n",
      "21  1.000000  0.000000  0.000000  \n",
      "22  0.861600  0.000000  0.272760  \n",
      "23  1.000000  0.000000  0.000000  \n",
      "24  0.630000  0.045000  0.556800  \n",
      "25  0.648000  0.000000  0.585900  \n",
      "26  1.000000  0.000000  0.000000  \n"
     ]
    }
   ],
   "source": [
    "data_aggregated = []\n",
    "\n",
    "# Group by 'publishedAt' date\n",
    "grouped = df.groupby('publishedAt')\n",
    "\n",
    "for date, group in grouped:\n",
    "    # Initialize sentiment sums\n",
    "    pos_sum = neu_sum = neg_sum = compound_sum = 0\n",
    "    titles = []\n",
    "\n",
    "    # Loop through each article in the group\n",
    "    for _, article in group.iterrows():\n",
    "        sentiment = get_sentiment(article['title'])\n",
    "        pos_sum += sentiment['pos']\n",
    "        neu_sum += sentiment['neu']\n",
    "        neg_sum += sentiment['neg']\n",
    "        compound_sum += sentiment['compound']\n",
    "        titles.append(article['title'])\n",
    "\n",
    "    # Calculate average sentiments for the group\n",
    "    n = len(group)\n",
    "    avg_pos = pos_sum / n\n",
    "    avg_neu = neu_sum / n\n",
    "    avg_neg = neg_sum / n\n",
    "    avg_compound = compound_sum / n\n",
    "\n",
    "    data_aggregated.append({\n",
    "        \"date\": date,\n",
    "        \"article titles\": titles,\n",
    "        \"pos\": avg_pos,\n",
    "        \"neu\": avg_neu,\n",
    "        \"neg\": avg_neg,\n",
    "        \"compound\": avg_compound\n",
    "    })\n",
    "\n",
    "df_aggregated = pd.DataFrame(data_aggregated, columns=['date', 'article titles', 'pos', 'neu', 'neg', 'compound'])"
   ]
  },
  {
   "cell_type": "code",
   "execution_count": 53,
   "id": "f5e2f55d-7f17-41ee-bcb7-e17ac7877ff7",
   "metadata": {},
   "outputs": [],
   "source": [
    "df_aggregated['number of articles'] = df_aggregated['article titles'].apply(lambda x: len(x))"
   ]
  },
  {
   "cell_type": "code",
   "execution_count": 56,
   "id": "a5d06e19-854f-4921-9291-32eec1aec89d",
   "metadata": {},
   "outputs": [],
   "source": [
    "df_aggregated.to_csv('04-07-2024_05-06.2024_sentiments.csv', encoding='utf-8', index=False)"
   ]
  },
  {
   "cell_type": "code",
   "execution_count": null,
   "id": "e465ada5-afd9-4532-8004-00584948ec61",
   "metadata": {},
   "outputs": [],
   "source": []
  }
 ],
 "metadata": {
  "kernelspec": {
   "display_name": "Python 3 (ipykernel)",
   "language": "python",
   "name": "python3"
  },
  "language_info": {
   "codemirror_mode": {
    "name": "ipython",
    "version": 3
   },
   "file_extension": ".py",
   "mimetype": "text/x-python",
   "name": "python",
   "nbconvert_exporter": "python",
   "pygments_lexer": "ipython3",
   "version": "3.11.9"
  }
 },
 "nbformat": 4,
 "nbformat_minor": 5
}
