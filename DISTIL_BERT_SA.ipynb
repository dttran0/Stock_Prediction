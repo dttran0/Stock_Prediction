{
 "cells": [
  {
   "cell_type": "markdown",
   "id": "1198f6cc-83f5-486a-9881-c563e58384d9",
   "metadata": {},
   "source": [
    "### Experimentation with FLAN T5 (most likely will not use)"
   ]
  },
  {
   "cell_type": "code",
   "execution_count": 1,
   "id": "c090251d-e877-4775-88fa-b5e940422e08",
   "metadata": {},
   "outputs": [],
   "source": [
    "# !pip install transformers\n",
    "# !pip install tensorflow\n",
    "# !pip install torch\n",
    "# !pip install sentencepiece\n",
    "# !pip install tf-keras"
   ]
  },
  {
   "cell_type": "code",
   "execution_count": 1,
   "id": "d79225e7-9d2e-484d-b2b1-5943c7752178",
   "metadata": {},
   "outputs": [],
   "source": [
    "import requests\n",
    "import xml.etree.ElementTree as ET\n",
    "from bs4 import BeautifulSoup\n",
    "from transformers import T5Tokenizer, T5ForConditionalGeneration, pipeline\n",
    "import pandas as pd\n",
    "from tqdm import tqdm"
   ]
  },
  {
   "cell_type": "markdown",
   "id": "b720865c-3f79-44c4-bf20-463917f005a3",
   "metadata": {},
   "source": [
    "# Distil BERT Sentiment Analysis"
   ]
  },
  {
   "cell_type": "code",
   "execution_count": 19,
   "id": "95eb4f4b-b55f-4896-b3f5-78fea4dcf9ba",
   "metadata": {},
   "outputs": [
    {
     "name": "stderr",
     "output_type": "stream",
     "text": [
      "C:\\Users\\blkeu\\anaconda3\\envs\\CS172B311\\Lib\\site-packages\\huggingface_hub\\file_download.py:1132: FutureWarning: `resume_download` is deprecated and will be removed in version 1.0.0. Downloads always resume when possible. If you want to force a new download, use `force_download=True`.\n",
      "  warnings.warn(\n"
     ]
    }
   ],
   "source": [
    "model_name='distilbert/distilbert-base-uncased-finetuned-sst-2-english'\n",
    "revision='af0f99b'\n",
    "classifier = pipeline(task=\"sentiment-analysis\", model=model_name, revision=revision)"
   ]
  },
  {
   "cell_type": "code",
   "execution_count": 3,
   "id": "3cf089d8-3cc1-41b4-b98c-e864d746dfa2",
   "metadata": {},
   "outputs": [],
   "source": [
    "df=pd.read_csv(\"data/4.12.15-5.11.24_articles.csv\")"
   ]
  },
  {
   "cell_type": "code",
   "execution_count": 4,
   "id": "731e9cc3-3aec-460e-8fec-2cdda702743b",
   "metadata": {},
   "outputs": [],
   "source": [
    "data = []\n",
    "for index, row in df.iterrows():\n",
    "    date_only = row['Date and Time'].split('T')[0]\n",
    "    data.append({'title': row['Article Title'], 'publishedAt': date_only})\n",
    "\n",
    "df = pd.DataFrame(data, columns=['title', 'publishedAt'])"
   ]
  },
  {
   "cell_type": "code",
   "execution_count": 5,
   "id": "98ec3490-e963-499a-8e12-871476704fa6",
   "metadata": {},
   "outputs": [],
   "source": [
    "df['publishedAt'] = df['publishedAt'].astype(str)\n",
    "\n",
    "df['title'] = df['title'].apply(lambda x: str(x))\n",
    "\n",
    "# Group by 'publishedAt' and aggregate 'title' into lists\n",
    "grouped_df = df.groupby('publishedAt', as_index=False).agg({'title': list})\n",
    "\n",
    "# Rename columns for clarity\n",
    "grouped_df.columns = ['date', 'article_titles']"
   ]
  },
  {
   "cell_type": "code",
   "execution_count": 6,
   "id": "547920fb-23c8-4389-a670-459737f8185b",
   "metadata": {},
   "outputs": [
    {
     "data": {
      "text/html": [
       "<div>\n",
       "<style scoped>\n",
       "    .dataframe tbody tr th:only-of-type {\n",
       "        vertical-align: middle;\n",
       "    }\n",
       "\n",
       "    .dataframe tbody tr th {\n",
       "        vertical-align: top;\n",
       "    }\n",
       "\n",
       "    .dataframe thead th {\n",
       "        text-align: right;\n",
       "    }\n",
       "</style>\n",
       "<table border=\"1\" class=\"dataframe\">\n",
       "  <thead>\n",
       "    <tr style=\"text-align: right;\">\n",
       "      <th></th>\n",
       "      <th>date</th>\n",
       "      <th>article_titles</th>\n",
       "    </tr>\n",
       "  </thead>\n",
       "  <tbody>\n",
       "    <tr>\n",
       "      <th>0</th>\n",
       "      <td>2015-04-11</td>\n",
       "      <td>[Analyst: Market Is Wrong On Threat To Garmin ...</td>\n",
       "    </tr>\n",
       "    <tr>\n",
       "      <th>1</th>\n",
       "      <td>2015-04-12</td>\n",
       "      <td>[Why Apple Watch Is Just 'Noise' And Apple Inv...</td>\n",
       "    </tr>\n",
       "    <tr>\n",
       "      <th>2</th>\n",
       "      <td>2015-04-14</td>\n",
       "      <td>[Will The $17,000 Apple Watch Inspire A $20,00...</td>\n",
       "    </tr>\n",
       "    <tr>\n",
       "      <th>3</th>\n",
       "      <td>2015-04-15</td>\n",
       "      <td>[6% Of US Adults Plan To Purchase Apple Watch,...</td>\n",
       "    </tr>\n",
       "    <tr>\n",
       "      <th>4</th>\n",
       "      <td>2015-04-17</td>\n",
       "      <td>[Apple Offers Workshops For Users To Get Acqua...</td>\n",
       "    </tr>\n",
       "    <tr>\n",
       "      <th>...</th>\n",
       "      <td>...</td>\n",
       "      <td>...</td>\n",
       "    </tr>\n",
       "    <tr>\n",
       "      <th>2010</th>\n",
       "      <td>2024-05-05</td>\n",
       "      <td>[Apple's Q2 Earnings, iPhone Sales Slump, And ...</td>\n",
       "    </tr>\n",
       "    <tr>\n",
       "      <th>2011</th>\n",
       "      <td>2024-05-06</td>\n",
       "      <td>[Thanks To Apple, This Analyst Is Optimistic O...</td>\n",
       "    </tr>\n",
       "    <tr>\n",
       "      <th>2012</th>\n",
       "      <td>2024-05-08</td>\n",
       "      <td>[Apple Reverses Sales Decline in China with Im...</td>\n",
       "    </tr>\n",
       "    <tr>\n",
       "      <th>2013</th>\n",
       "      <td>2024-05-09</td>\n",
       "      <td>[\"Apple Apologizes For iPad 'Crush' Ad That 'M...</td>\n",
       "    </tr>\n",
       "    <tr>\n",
       "      <th>2014</th>\n",
       "      <td>2024-05-11</td>\n",
       "      <td>[Apple Inches Closer To Choosing Sam Altman-Le...</td>\n",
       "    </tr>\n",
       "  </tbody>\n",
       "</table>\n",
       "<p>2015 rows × 2 columns</p>\n",
       "</div>"
      ],
      "text/plain": [
       "            date                                     article_titles\n",
       "0     2015-04-11  [Analyst: Market Is Wrong On Threat To Garmin ...\n",
       "1     2015-04-12  [Why Apple Watch Is Just 'Noise' And Apple Inv...\n",
       "2     2015-04-14  [Will The $17,000 Apple Watch Inspire A $20,00...\n",
       "3     2015-04-15  [6% Of US Adults Plan To Purchase Apple Watch,...\n",
       "4     2015-04-17  [Apple Offers Workshops For Users To Get Acqua...\n",
       "...          ...                                                ...\n",
       "2010  2024-05-05  [Apple's Q2 Earnings, iPhone Sales Slump, And ...\n",
       "2011  2024-05-06  [Thanks To Apple, This Analyst Is Optimistic O...\n",
       "2012  2024-05-08  [Apple Reverses Sales Decline in China with Im...\n",
       "2013  2024-05-09  [\"Apple Apologizes For iPad 'Crush' Ad That 'M...\n",
       "2014  2024-05-11  [Apple Inches Closer To Choosing Sam Altman-Le...\n",
       "\n",
       "[2015 rows x 2 columns]"
      ]
     },
     "execution_count": 6,
     "metadata": {},
     "output_type": "execute_result"
    }
   ],
   "source": [
    "grouped_df"
   ]
  },
  {
   "cell_type": "code",
   "execution_count": 9,
   "id": "1efad806-baf1-48cd-9bec-293a3265f453",
   "metadata": {},
   "outputs": [
    {
     "name": "stderr",
     "output_type": "stream",
     "text": [
      "2015it [06:23,  5.25it/s]\n"
     ]
    }
   ],
   "source": [
    "output_data = []\n",
    "for index, row in tqdm(grouped_df.iterrows()):\n",
    "    preds = classifier(row['article_titles'])\n",
    "    preds = [{\"score\": round(pred[\"score\"], 4), \"label\": pred[\"label\"]} for pred in preds]\n",
    "    weighted_scores = []\n",
    "    for pred in preds:\n",
    "        score = pred['score']\n",
    "        if pred['label'] == 'NEGATIVE':\n",
    "            score = -score\n",
    "        weighted_scores.append(score)\n",
    "    \n",
    "    overall_sentiment = sum(weighted_scores) / len(weighted_scores)\n",
    "    overall_sentiment = round(overall_sentiment, 4)\n",
    "\n",
    "    output_data.append([row['date'], row['article_titles'], overall_sentiment])\n",
    "\n",
    "output_df = pd.DataFrame(output_data, columns=['date', 'article_titles', 'sentiment'])"
   ]
  },
  {
   "cell_type": "code",
   "execution_count": 13,
   "id": "d9e229b2-27fd-4826-8d11-1f41746a7a47",
   "metadata": {},
   "outputs": [],
   "source": [
    "# for i in output_df['sentiment'].unique():\n",
    "#     print(i)"
   ]
  },
  {
   "cell_type": "code",
   "execution_count": 14,
   "id": "c186a580-0e00-4191-a95a-5af1566fbe47",
   "metadata": {},
   "outputs": [
    {
     "data": {
      "text/html": [
       "<div>\n",
       "<style scoped>\n",
       "    .dataframe tbody tr th:only-of-type {\n",
       "        vertical-align: middle;\n",
       "    }\n",
       "\n",
       "    .dataframe tbody tr th {\n",
       "        vertical-align: top;\n",
       "    }\n",
       "\n",
       "    .dataframe thead th {\n",
       "        text-align: right;\n",
       "    }\n",
       "</style>\n",
       "<table border=\"1\" class=\"dataframe\">\n",
       "  <thead>\n",
       "    <tr style=\"text-align: right;\">\n",
       "      <th></th>\n",
       "      <th>date</th>\n",
       "      <th>article_titles</th>\n",
       "      <th>sentiment</th>\n",
       "    </tr>\n",
       "  </thead>\n",
       "  <tbody>\n",
       "    <tr>\n",
       "      <th>0</th>\n",
       "      <td>2015-04-11</td>\n",
       "      <td>[Analyst: Market Is Wrong On Threat To Garmin ...</td>\n",
       "      <td>-0.9976</td>\n",
       "    </tr>\n",
       "    <tr>\n",
       "      <th>1</th>\n",
       "      <td>2015-04-12</td>\n",
       "      <td>[Why Apple Watch Is Just 'Noise' And Apple Inv...</td>\n",
       "      <td>-0.9995</td>\n",
       "    </tr>\n",
       "    <tr>\n",
       "      <th>2</th>\n",
       "      <td>2015-04-14</td>\n",
       "      <td>[Will The $17,000 Apple Watch Inspire A $20,00...</td>\n",
       "      <td>-0.5197</td>\n",
       "    </tr>\n",
       "    <tr>\n",
       "      <th>3</th>\n",
       "      <td>2015-04-15</td>\n",
       "      <td>[6% Of US Adults Plan To Purchase Apple Watch,...</td>\n",
       "      <td>-0.7127</td>\n",
       "    </tr>\n",
       "    <tr>\n",
       "      <th>4</th>\n",
       "      <td>2015-04-17</td>\n",
       "      <td>[Apple Offers Workshops For Users To Get Acqua...</td>\n",
       "      <td>-0.2263</td>\n",
       "    </tr>\n",
       "    <tr>\n",
       "      <th>...</th>\n",
       "      <td>...</td>\n",
       "      <td>...</td>\n",
       "      <td>...</td>\n",
       "    </tr>\n",
       "    <tr>\n",
       "      <th>2010</th>\n",
       "      <td>2024-05-05</td>\n",
       "      <td>[Apple's Q2 Earnings, iPhone Sales Slump, And ...</td>\n",
       "      <td>-0.9991</td>\n",
       "    </tr>\n",
       "    <tr>\n",
       "      <th>2011</th>\n",
       "      <td>2024-05-06</td>\n",
       "      <td>[Thanks To Apple, This Analyst Is Optimistic O...</td>\n",
       "      <td>-0.0173</td>\n",
       "    </tr>\n",
       "    <tr>\n",
       "      <th>2012</th>\n",
       "      <td>2024-05-08</td>\n",
       "      <td>[Apple Reverses Sales Decline in China with Im...</td>\n",
       "      <td>-0.5756</td>\n",
       "    </tr>\n",
       "    <tr>\n",
       "      <th>2013</th>\n",
       "      <td>2024-05-09</td>\n",
       "      <td>[\"Apple Apologizes For iPad 'Crush' Ad That 'M...</td>\n",
       "      <td>-0.8515</td>\n",
       "    </tr>\n",
       "    <tr>\n",
       "      <th>2014</th>\n",
       "      <td>2024-05-11</td>\n",
       "      <td>[Apple Inches Closer To Choosing Sam Altman-Le...</td>\n",
       "      <td>-0.0639</td>\n",
       "    </tr>\n",
       "  </tbody>\n",
       "</table>\n",
       "<p>2015 rows × 3 columns</p>\n",
       "</div>"
      ],
      "text/plain": [
       "            date                                     article_titles  sentiment\n",
       "0     2015-04-11  [Analyst: Market Is Wrong On Threat To Garmin ...    -0.9976\n",
       "1     2015-04-12  [Why Apple Watch Is Just 'Noise' And Apple Inv...    -0.9995\n",
       "2     2015-04-14  [Will The $17,000 Apple Watch Inspire A $20,00...    -0.5197\n",
       "3     2015-04-15  [6% Of US Adults Plan To Purchase Apple Watch,...    -0.7127\n",
       "4     2015-04-17  [Apple Offers Workshops For Users To Get Acqua...    -0.2263\n",
       "...          ...                                                ...        ...\n",
       "2010  2024-05-05  [Apple's Q2 Earnings, iPhone Sales Slump, And ...    -0.9991\n",
       "2011  2024-05-06  [Thanks To Apple, This Analyst Is Optimistic O...    -0.0173\n",
       "2012  2024-05-08  [Apple Reverses Sales Decline in China with Im...    -0.5756\n",
       "2013  2024-05-09  [\"Apple Apologizes For iPad 'Crush' Ad That 'M...    -0.8515\n",
       "2014  2024-05-11  [Apple Inches Closer To Choosing Sam Altman-Le...    -0.0639\n",
       "\n",
       "[2015 rows x 3 columns]"
      ]
     },
     "execution_count": 14,
     "metadata": {},
     "output_type": "execute_result"
    }
   ],
   "source": [
    "output_df"
   ]
  },
  {
   "cell_type": "code",
   "execution_count": 15,
   "id": "48d2e0f1-f031-4277-b120-652c1fccfac7",
   "metadata": {},
   "outputs": [],
   "source": [
    "output_df.to_csv('data/4.12.15-5.11.24_BERT_sentiments.csv', encoding='utf-8', index=False)"
   ]
  }
 ],
 "metadata": {
  "kernelspec": {
   "display_name": "Python 3 (ipykernel)",
   "language": "python",
   "name": "python3"
  },
  "language_info": {
   "codemirror_mode": {
    "name": "ipython",
    "version": 3
   },
   "file_extension": ".py",
   "mimetype": "text/x-python",
   "name": "python",
   "nbconvert_exporter": "python",
   "pygments_lexer": "ipython3",
   "version": "3.11.9"
  }
 },
 "nbformat": 4,
 "nbformat_minor": 5
}
